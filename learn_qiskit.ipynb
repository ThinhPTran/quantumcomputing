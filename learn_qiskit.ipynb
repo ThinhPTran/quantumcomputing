{
 "cells": [
  {
   "cell_type": "code",
   "execution_count": 14,
   "id": "c3ba8f32-5317-4e2c-9784-aed8ae4b39f3",
   "metadata": {},
   "outputs": [],
   "source": [
    "# Import the Qiskit package\n",
    "import qiskit"
   ]
  },
  {
   "cell_type": "code",
   "execution_count": 15,
   "id": "14030cda-7321-4cf0-af2f-669bc8c8a45b",
   "metadata": {},
   "outputs": [],
   "source": [
    "# Create a quantum register with one qubit\n",
    "qreg = qiskit.QuantumRegister(1, name='qreg')"
   ]
  },
  {
   "cell_type": "code",
   "execution_count": 16,
   "id": "7b0dfbe1-7c09-4733-b73c-d93f509e749c",
   "metadata": {},
   "outputs": [],
   "source": [
    "# Create a classical register with one qubit\n",
    "creg = qiskit.ClassicalRegister(1, name='creg')"
   ]
  },
  {
   "cell_type": "code",
   "execution_count": 17,
   "id": "95bea0f9-3ee6-48c1-a842-dcd067af7f5a",
   "metadata": {},
   "outputs": [],
   "source": [
    "# Create a quantum circuit with the above registers\n",
    "circ = qiskit.QuantumCircuit(qreg, creg)"
   ]
  },
  {
   "cell_type": "code",
   "execution_count": 18,
   "id": "7a0a49ea-0f24-4930-8a2e-bcc180f8447f",
   "metadata": {},
   "outputs": [
    {
     "data": {
      "text/plain": [
       "<qiskit.circuit.instructionset.InstructionSet at 0x106de1e70>"
      ]
     },
     "execution_count": 18,
     "metadata": {},
     "output_type": "execute_result"
    }
   ],
   "source": [
    "# Add a NOT operation on the qubit\n",
    "circ.x(qreg[0])"
   ]
  },
  {
   "cell_type": "code",
   "execution_count": 19,
   "id": "be68cbfd-08e8-4766-ac16-08e8b92cb799",
   "metadata": {},
   "outputs": [
    {
     "data": {
      "text/plain": [
       "<qiskit.circuit.instructionset.InstructionSet at 0x113193400>"
      ]
     },
     "execution_count": 19,
     "metadata": {},
     "output_type": "execute_result"
    }
   ],
   "source": [
    "# Add a measurement on the qubit\n",
    "circ.measure(qreg, creg)"
   ]
  },
  {
   "cell_type": "code",
   "execution_count": 21,
   "id": "fa8b2fe3-7126-4706-aaeb-c57d1086341f",
   "metadata": {},
   "outputs": [
    {
     "name": "stdout",
     "output_type": "stream",
     "text": [
      "        ┌───┐┌─┐\n",
      "  qreg: ┤ X ├┤M├\n",
      "        └───┘└╥┘\n",
      "creg: 1/══════╩═\n",
      "              0 \n"
     ]
    }
   ],
   "source": [
    "# Print the circuit\n",
    "print(circ.draw())"
   ]
  },
  {
   "cell_type": "code",
   "execution_count": 30,
   "id": "98c39d20-69af-4ce1-8087-50a76a1aaeab",
   "metadata": {},
   "outputs": [],
   "source": [
    "# Get a backend to run on\n",
    "from qiskit.providers.basic_provider import BasicSimulator\n",
    "backend = BasicSimulator()"
   ]
  },
  {
   "cell_type": "code",
   "execution_count": 34,
   "id": "e018d360-6ecd-4b48-8be4-93bc6f4d68d9",
   "metadata": {},
   "outputs": [],
   "source": [
    "# Execute the circuit on the backend and get the measurement results\n",
    "job = backend.run(circ, shots=10)\n",
    "result = job.result()"
   ]
  },
  {
   "cell_type": "code",
   "execution_count": 35,
   "id": "3eb75fbd-4223-4864-a137-04d91b1358c2",
   "metadata": {},
   "outputs": [
    {
     "name": "stdout",
     "output_type": "stream",
     "text": [
      "{'1': 10}\n"
     ]
    }
   ],
   "source": [
    "# Print the measurement results\n",
    "print(result.get_counts())"
   ]
  },
  {
   "cell_type": "code",
   "execution_count": null,
   "id": "fe30a624-b140-4bcf-ad5a-18d31275c2c2",
   "metadata": {},
   "outputs": [],
   "source": []
  }
 ],
 "metadata": {
  "kernelspec": {
   "display_name": "Python 3 (ipykernel)",
   "language": "python",
   "name": "python3"
  },
  "language_info": {
   "codemirror_mode": {
    "name": "ipython",
    "version": 3
   },
   "file_extension": ".py",
   "mimetype": "text/x-python",
   "name": "python",
   "nbconvert_exporter": "python",
   "pygments_lexer": "ipython3",
   "version": "3.12.2"
  }
 },
 "nbformat": 4,
 "nbformat_minor": 5
}
