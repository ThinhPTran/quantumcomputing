{
 "cells": [
  {
   "cell_type": "code",
   "execution_count": 3,
   "id": "c45ad98d-dcb0-48f5-8dca-e066fbc7c7ac",
   "metadata": {},
   "outputs": [],
   "source": [
    "import numpy as np\n",
    "\n",
    "lambda0 = np.matrix([[np.sqrt(2/3)+0*1j,0,0],[0,np.sqrt(2/3)+0*1j,0],[0,0,np.sqrt(2/3)]])\n",
    "lambda1 = np.matrix([[0*1j, 1, 0],[1,0,0],[0,0,0]])\n",
    "lambda2 = np.matrix([[0,-1j,0],[1j,0,0],[0,0,0]])\n",
    "lambda3 = np.matrix([[1,0*1j,0],[0,-1,0],[0,0,0]])\n",
    "lambda4 = np.matrix([[0*1j,0,1],[0,0,0],[1,0,0]])\n",
    "lambda5 = np.matrix([[0*1j,0,-1j],[0,0,0],[1j,0,0]])\n",
    "lambda6 = np.matrix([[0*1j,0,0],[0,0,1],[0,1,0]])\n",
    "lambda7 = np.matrix([[0*1j,0,0],[0,0,-1j],[0,1j,0]])\n",
    "lambda8 = np.matrix([[1,0,0*1j],[0,1,0],[0,0,-2]])"
   ]
  },
  {
   "cell_type": "code",
   "execution_count": 4,
   "id": "2569648c-7780-442a-84e9-792baeba3c70",
   "metadata": {},
   "outputs": [
    {
     "name": "stdout",
     "output_type": "stream",
     "text": [
      "[[1.+0.j 0.+0.j 0.+0.j]\n",
      " [0.+0.j 1.+0.j 0.+0.j]\n",
      " [0.+0.j 0.+0.j 0.+0.j]]\n"
     ]
    }
   ],
   "source": [
    "print(lambda1@lambda1)"
   ]
  },
  {
   "cell_type": "code",
   "execution_count": 5,
   "id": "e8899fd2-a0ce-44b7-8fd0-c751ba99ea4c",
   "metadata": {},
   "outputs": [
    {
     "name": "stdout",
     "output_type": "stream",
     "text": [
      "[[1.+0.j 0.+0.j 0.+0.j]\n",
      " [0.+0.j 1.+0.j 0.+0.j]\n",
      " [0.+0.j 0.+0.j 0.+0.j]]\n"
     ]
    }
   ],
   "source": [
    "print(lambda2@lambda2)"
   ]
  },
  {
   "cell_type": "code",
   "execution_count": 6,
   "id": "f9932bdf-fdd8-4b98-bfbd-5c70e91308c8",
   "metadata": {},
   "outputs": [
    {
     "name": "stdout",
     "output_type": "stream",
     "text": [
      "[[1.+0.j 0.+0.j 0.+0.j]\n",
      " [0.+0.j 1.+0.j 0.+0.j]\n",
      " [0.+0.j 0.+0.j 0.+0.j]]\n"
     ]
    }
   ],
   "source": [
    "print(lambda3@lambda3)"
   ]
  },
  {
   "cell_type": "code",
   "execution_count": 8,
   "id": "22c90312-74bf-4f6a-910c-6159b352dab8",
   "metadata": {},
   "outputs": [
    {
     "name": "stdout",
     "output_type": "stream",
     "text": [
      "[[1.+0.j 0.+0.j 0.+0.j]\n",
      " [0.+0.j 0.+0.j 0.+0.j]\n",
      " [0.+0.j 0.+0.j 1.+0.j]]\n"
     ]
    }
   ],
   "source": [
    "print(lambda4@lambda4)"
   ]
  },
  {
   "cell_type": "code",
   "execution_count": 9,
   "id": "d4150e9e-75ee-4b1a-9963-9665a6a3ea11",
   "metadata": {},
   "outputs": [
    {
     "name": "stdout",
     "output_type": "stream",
     "text": [
      "[[1.+0.j 0.+0.j 0.+0.j]\n",
      " [0.+0.j 0.+0.j 0.+0.j]\n",
      " [0.+0.j 0.+0.j 1.+0.j]]\n"
     ]
    }
   ],
   "source": [
    "print(lambda5@lambda5)"
   ]
  },
  {
   "cell_type": "code",
   "execution_count": 10,
   "id": "cb51e6c7-e212-4d3a-ae00-93fa5c521e3e",
   "metadata": {},
   "outputs": [
    {
     "name": "stdout",
     "output_type": "stream",
     "text": [
      "[[0.+0.j 0.+0.j 0.+0.j]\n",
      " [0.+0.j 1.+0.j 0.+0.j]\n",
      " [0.+0.j 0.+0.j 1.+0.j]]\n"
     ]
    }
   ],
   "source": [
    "print(lambda6@lambda6)"
   ]
  },
  {
   "cell_type": "code",
   "execution_count": 11,
   "id": "06b0c067-54c5-41f3-9b52-4455f6930a62",
   "metadata": {},
   "outputs": [
    {
     "name": "stdout",
     "output_type": "stream",
     "text": [
      "[[0.+0.j 0.+0.j 0.+0.j]\n",
      " [0.+0.j 1.+0.j 0.+0.j]\n",
      " [0.+0.j 0.+0.j 1.+0.j]]\n"
     ]
    }
   ],
   "source": [
    "print(lambda7@lambda7)"
   ]
  },
  {
   "cell_type": "code",
   "execution_count": 13,
   "id": "fe0fbfaa-2932-47e3-974a-0d4c06b1847c",
   "metadata": {},
   "outputs": [
    {
     "name": "stdout",
     "output_type": "stream",
     "text": [
      "[[1.+0.j 0.+0.j 0.+0.j]\n",
      " [0.+0.j 1.+0.j 0.+0.j]\n",
      " [0.+0.j 0.+0.j 4.+0.j]]\n"
     ]
    }
   ],
   "source": [
    "print(lambda8@lambda8)"
   ]
  },
  {
   "cell_type": "code",
   "execution_count": 14,
   "id": "8bfdaedd-9497-4cdc-9cac-17b7172bb40b",
   "metadata": {},
   "outputs": [
    {
     "name": "stdout",
     "output_type": "stream",
     "text": [
      "[[0.66666667+0.j 0.        +0.j 0.        +0.j]\n",
      " [0.        +0.j 0.66666667+0.j 0.        +0.j]\n",
      " [0.        +0.j 0.        +0.j 0.66666667+0.j]]\n"
     ]
    }
   ],
   "source": [
    "print(lambda0@lambda0)"
   ]
  },
  {
   "cell_type": "code",
   "execution_count": null,
   "id": "6b46e690-810c-4806-af61-855322778c6f",
   "metadata": {},
   "outputs": [],
   "source": []
  }
 ],
 "metadata": {
  "kernelspec": {
   "display_name": "Python 3 (ipykernel)",
   "language": "python",
   "name": "python3"
  },
  "language_info": {
   "codemirror_mode": {
    "name": "ipython",
    "version": 3
   },
   "file_extension": ".py",
   "mimetype": "text/x-python",
   "name": "python",
   "nbconvert_exporter": "python",
   "pygments_lexer": "ipython3",
   "version": "3.8.19"
  }
 },
 "nbformat": 4,
 "nbformat_minor": 5
}
