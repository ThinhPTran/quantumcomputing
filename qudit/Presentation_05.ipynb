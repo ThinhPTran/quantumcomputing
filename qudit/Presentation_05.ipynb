{
 "cells": [
  {
   "cell_type": "code",
   "execution_count": 23,
   "id": "19e117fe-5885-4176-9824-f15f89fcce19",
   "metadata": {},
   "outputs": [
    {
     "name": "stdout",
     "output_type": "stream",
     "text": [
      "0: 0\n",
      "1: 7\n",
      "2: 2\n",
      "3: 9\n",
      "4: 4\n",
      "5: 11\n",
      "6: 6\n",
      "7: 1\n",
      "8: 8\n",
      "9: 3\n",
      "10: 10\n",
      "11: 5\n",
      "12: 0\n",
      "13: 7\n",
      "14: 2\n",
      "15: 9\n",
      "16: 4\n",
      "17: 11\n",
      "18: 6\n",
      "19: 1\n",
      "20: 8\n",
      "21: 3\n",
      "22: 10\n",
      "23: 5\n"
     ]
    }
   ],
   "source": [
    "# import numpy as np\n",
    "\n",
    "#Cyclic group {0,1,2,3,4,5,6,7,8,9,10,11} Z12 \n",
    "#a^r a^7 = 7 \n",
    "# 7 and 12 are relatively prime\n",
    "for i in range(24):\n",
    "    print(f\"{i}: {7*i%12}\")\n",
    "\n",
    "# a^7 is of order 12 since a^7 = 7 , (a^7)^12 = 7*12 = 84 % 12 = 0"
   ]
  },
  {
   "cell_type": "code",
   "execution_count": 24,
   "id": "e71ff4a0-9883-4c72-a71f-4896943b7708",
   "metadata": {},
   "outputs": [
    {
     "name": "stdout",
     "output_type": "stream",
     "text": [
      "0: 0\n",
      "1: 7\n",
      "2: 2\n",
      "3: 9\n",
      "4: 4\n",
      "5: 11\n",
      "6: 6\n",
      "7: 1\n",
      "8: 8\n",
      "9: 3\n",
      "10: 10\n",
      "11: 5\n",
      "12: 0\n",
      "13: 7\n",
      "14: 2\n",
      "15: 9\n",
      "16: 4\n",
      "17: 11\n",
      "18: 6\n",
      "19: 1\n",
      "20: 8\n",
      "21: 3\n",
      "22: 10\n",
      "23: 5\n"
     ]
    }
   ],
   "source": [
    "#Cyclic group {0,7*1,7*2,7*3,7*4,7*5,7*6,7*7,7*8,7*9,7*10,7*11} Z12 \n",
    "#a^r a^7 = 7*7\n",
    "#7 and 12 are relatively prime\n",
    "for i in range(24):\n",
    "    print(f\"{i}: {(7*(i))%12}\")"
   ]
  },
  {
   "cell_type": "code",
   "execution_count": 25,
   "id": "8977a2f3-83da-4f78-99db-522b4a5d5580",
   "metadata": {},
   "outputs": [
    {
     "name": "stdout",
     "output_type": "stream",
     "text": [
      "0: 0\n",
      "1: 5\n",
      "2: 10\n",
      "3: 3\n",
      "4: 8\n",
      "5: 1\n",
      "6: 6\n",
      "7: 11\n",
      "8: 4\n",
      "9: 9\n",
      "10: 2\n",
      "11: 7\n",
      "12: 0\n",
      "13: 5\n",
      "14: 10\n",
      "15: 3\n",
      "16: 8\n",
      "17: 1\n",
      "18: 6\n",
      "19: 11\n",
      "20: 4\n",
      "21: 9\n",
      "22: 2\n",
      "23: 7\n"
     ]
    }
   ],
   "source": [
    "#Cyclic group {0,5*1,5*2,5*3,5*4,5*5,5*6,5*7,5*8,5*9,5*10,5*11} Z12 \n",
    "#a^r a^7 = 5*7\n",
    "#7 and 12 are relatively prime\n",
    "for i in range(24):\n",
    "    print(f\"{i}: {(5*(i))%12}\")"
   ]
  },
  {
   "cell_type": "code",
   "execution_count": 27,
   "id": "135e9a14-9f58-4c64-91a0-e048990d6d9c",
   "metadata": {},
   "outputs": [
    {
     "name": "stdout",
     "output_type": "stream",
     "text": [
      "0: 0\n",
      "1: 3\n",
      "2: 6\n",
      "3: 9\n",
      "4: 0\n",
      "5: 3\n",
      "6: 6\n",
      "7: 9\n",
      "8: 0\n",
      "9: 3\n",
      "10: 6\n",
      "11: 9\n",
      "12: 0\n",
      "13: 3\n",
      "14: 6\n",
      "15: 9\n",
      "16: 0\n",
      "17: 3\n",
      "18: 6\n",
      "19: 9\n",
      "20: 0\n",
      "21: 3\n",
      "22: 6\n",
      "23: 9\n"
     ]
    }
   ],
   "source": [
    "#Cyclic group {0,3*1,3*2,3*3,3*4,3*5,3*6,3*7,3*8,3*9,3*10,3*11} Z12 \n",
    "#a^r a^7 = 3*7 - 3 and 12 are not relatively prime.\n",
    "#7 and 12 are relatively prime\n",
    "for i in range(24):\n",
    "    print(f\"{i}: {(3*(i))%12}\")"
   ]
  },
  {
   "cell_type": "markdown",
   "id": "28ffd290-c25d-4106-acc9-6fcf54394f9f",
   "metadata": {},
   "source": []
  }
 ],
 "metadata": {
  "kernelspec": {
   "display_name": "Python 3 (ipykernel)",
   "language": "python",
   "name": "python3"
  },
  "language_info": {
   "codemirror_mode": {
    "name": "ipython",
    "version": 3
   },
   "file_extension": ".py",
   "mimetype": "text/x-python",
   "name": "python",
   "nbconvert_exporter": "python",
   "pygments_lexer": "ipython3",
   "version": "3.8.19"
  }
 },
 "nbformat": 4,
 "nbformat_minor": 5
}
