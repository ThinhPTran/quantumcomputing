{
 "cells": [
  {
   "cell_type": "markdown",
   "metadata": {
    "id": "Sfaxj_ywcd7q"
   },
   "source": [
    "## **はじめに**\n",
    "\n",
    "---\n",
    "\n",
    "Google colaboratory上にD-Wave Systemsが提供しているOcean SDKをインストールするところから始めましょう。\n",
    "\n",
    "以下のように\n",
    "pip install\n",
    "と言うコマンドでシステムに新しいライブラリをインストールすることができます。\n",
    "\n",
    "（こうした呪文であらかじめ頭のいい人がプログラムしたものを呼び出すことができる）\n",
    "\n",
    "今回の場合ですと、dwave-ocean-sdkをインストールすることになります。"
   ]
  },
  {
   "cell_type": "code",
   "execution_count": 1,
   "metadata": {
    "colab": {
     "base_uri": "https://localhost:8080/"
    },
    "id": "UJSm0-dpcfkb",
    "outputId": "2ec842cf-2cac-4843-f2de-ecab572e744a"
   },
   "outputs": [
    {
     "name": "stdout",
     "output_type": "stream",
     "text": [
      "Collecting dwave-ocean-sdk\n",
      "  Using cached dwave_ocean_sdk-6.9.0-py3-none-any.whl.metadata (5.7 kB)\n",
      "Requirement already satisfied: dimod==0.12.14 in /Users/macbookpro/Programming/Python/quantum_annealing/myvir/lib/python3.12/site-packages (from dwave-ocean-sdk) (0.12.14)\n",
      "Collecting dwave-cloud-client==0.11.3 (from dwave-ocean-sdk)\n",
      "  Using cached dwave_cloud_client-0.11.3-py3-none-any.whl.metadata (5.3 kB)\n",
      "Collecting dwave-greedy==0.3.0 (from dwave-ocean-sdk)\n",
      "  Using cached dwave_greedy-0.3.0-py3-none-any.whl.metadata (4.6 kB)\n",
      "Collecting dwave-hybrid==0.6.11 (from dwave-ocean-sdk)\n",
      "  Using cached dwave_hybrid-0.6.11-py3-none-any.whl.metadata (4.4 kB)\n",
      "Collecting dwave-inspector==0.4.4 (from dwave-ocean-sdk)\n",
      "  Using cached dwave_inspector-0.4.4-py3-none-any.whl.metadata (4.4 kB)\n",
      "Collecting dwave-neal==0.6.0 (from dwave-ocean-sdk)\n",
      "  Using cached dwave_neal-0.6.0-py3-none-any.whl.metadata (3.0 kB)\n",
      "Collecting dwave-networkx==0.8.14 (from dwave-ocean-sdk)\n",
      "  Using cached dwave_networkx-0.8.14-py3-none-any.whl.metadata (2.6 kB)\n",
      "Collecting dwave-preprocessing==0.6.5 (from dwave-ocean-sdk)\n",
      "  Using cached dwave_preprocessing-0.6.5-cp312-cp312-macosx_10_9_x86_64.whl.metadata (3.3 kB)\n",
      "Collecting dwave-samplers==1.2.0 (from dwave-ocean-sdk)\n",
      "  Using cached dwave_samplers-1.2.0-cp312-cp312-macosx_10_9_x86_64.whl.metadata (9.8 kB)\n",
      "Collecting dwave-system==1.23.0 (from dwave-ocean-sdk)\n",
      "  Using cached dwave_system-1.23.0-py3-none-any.whl.metadata (3.8 kB)\n",
      "Collecting dwave-tabu==0.5.0 (from dwave-ocean-sdk)\n",
      "  Using cached dwave_tabu-0.5.0-py3-none-any.whl.metadata (3.3 kB)\n",
      "Collecting dwavebinarycsp==0.3.0 (from dwave-ocean-sdk)\n",
      "  Using cached dwavebinarycsp-0.3.0-py3-none-any.whl.metadata (3.0 kB)\n",
      "Collecting minorminer==0.2.13 (from dwave-ocean-sdk)\n",
      "  Using cached minorminer-0.2.13-cp312-cp312-macosx_10_9_x86_64.whl.metadata (1.4 kB)\n",
      "Collecting penaltymodel==1.1.0 (from dwave-ocean-sdk)\n",
      "  Using cached penaltymodel-1.1.0-py3-none-any.whl.metadata (6.5 kB)\n",
      "Requirement already satisfied: numpy<2.0.0,>=1.17.3 in /Users/macbookpro/Programming/Python/quantum_annealing/myvir/lib/python3.12/site-packages (from dimod==0.12.14->dwave-ocean-sdk) (1.26.4)\n",
      "Requirement already satisfied: requests>=2.18 in /Users/macbookpro/Programming/Python/quantum_annealing/myvir/lib/python3.12/site-packages (from requests[socks]>=2.18->dwave-cloud-client==0.11.3->dwave-ocean-sdk) (2.31.0)\n",
      "Collecting pydantic<3,>=2 (from dwave-cloud-client==0.11.3->dwave-ocean-sdk)\n",
      "  Using cached pydantic-2.6.4-py3-none-any.whl.metadata (85 kB)\n",
      "Collecting homebase>=1.0 (from dwave-cloud-client==0.11.3->dwave-ocean-sdk)\n",
      "  Using cached homebase-1.0.1-py2.py3-none-any.whl.metadata (3.3 kB)\n",
      "Collecting click>=7.0 (from dwave-cloud-client==0.11.3->dwave-ocean-sdk)\n",
      "  Using cached click-8.1.7-py3-none-any.whl.metadata (3.0 kB)\n",
      "Requirement already satisfied: python-dateutil>=2.7 in /Users/macbookpro/Programming/Python/quantum_annealing/myvir/lib/python3.12/site-packages (from dwave-cloud-client==0.11.3->dwave-ocean-sdk) (2.9.0.post0)\n",
      "Collecting plucky>=0.4.3 (from dwave-cloud-client==0.11.3->dwave-ocean-sdk)\n",
      "  Using cached plucky-0.4.3-py2.py3-none-any.whl.metadata (4.4 kB)\n",
      "Collecting diskcache>=5.2.1 (from dwave-cloud-client==0.11.3->dwave-ocean-sdk)\n",
      "  Using cached diskcache-5.6.3-py3-none-any.whl.metadata (20 kB)\n",
      "Requirement already satisfied: packaging>=19 in /Users/macbookpro/Programming/Python/quantum_annealing/myvir/lib/python3.12/site-packages (from dwave-cloud-client==0.11.3->dwave-ocean-sdk) (24.0)\n",
      "Collecting werkzeug>=2.2 (from dwave-cloud-client==0.11.3->dwave-ocean-sdk)\n",
      "  Using cached werkzeug-3.0.1-py3-none-any.whl.metadata (4.1 kB)\n",
      "Requirement already satisfied: typing-extensions>=4.5.0 in /Users/macbookpro/Programming/Python/quantum_annealing/myvir/lib/python3.12/site-packages (from dwave-cloud-client==0.11.3->dwave-ocean-sdk) (4.10.0)\n",
      "Collecting authlib<2,>=1.2 (from dwave-cloud-client==0.11.3->dwave-ocean-sdk)\n",
      "  Using cached Authlib-1.3.0-py2.py3-none-any.whl.metadata (3.8 kB)\n",
      "Collecting importlib-metadata>=5.0.0 (from dwave-cloud-client==0.11.3->dwave-ocean-sdk)\n",
      "  Downloading importlib_metadata-7.1.0-py3-none-any.whl.metadata (4.7 kB)\n",
      "Collecting networkx (from dwave-hybrid==0.6.11->dwave-ocean-sdk)\n",
      "  Using cached networkx-3.2.1-py3-none-any.whl.metadata (5.2 kB)\n",
      "Collecting Flask>=2.2 (from dwave-inspector==0.4.4->dwave-ocean-sdk)\n",
      "  Using cached flask-3.0.2-py3-none-any.whl.metadata (3.6 kB)\n",
      "Requirement already satisfied: scipy>=1.7.3 in /Users/macbookpro/Programming/Python/quantum_annealing/myvir/lib/python3.12/site-packages (from dwave-system==1.23.0->dwave-ocean-sdk) (1.11.4)\n",
      "Collecting fasteners>=0.15 (from minorminer==0.2.13->dwave-ocean-sdk)\n",
      "  Using cached fasteners-0.19-py3-none-any.whl.metadata (4.9 kB)\n",
      "Collecting rectangle-packer>=2.0.1 (from minorminer==0.2.13->dwave-ocean-sdk)\n",
      "  Using cached rectangle_packer-2.0.2-cp312-cp312-macosx_10_9_x86_64.whl.metadata (5.4 kB)\n",
      "Collecting cryptography (from authlib<2,>=1.2->dwave-cloud-client==0.11.3->dwave-ocean-sdk)\n",
      "  Using cached cryptography-42.0.5-cp39-abi3-macosx_10_12_universal2.whl.metadata (5.3 kB)\n",
      "Requirement already satisfied: Jinja2>=3.1.2 in /Users/macbookpro/Programming/Python/quantum_annealing/myvir/lib/python3.12/site-packages (from Flask>=2.2->dwave-inspector==0.4.4->dwave-ocean-sdk) (3.1.3)\n",
      "Collecting itsdangerous>=2.1.2 (from Flask>=2.2->dwave-inspector==0.4.4->dwave-ocean-sdk)\n",
      "  Using cached itsdangerous-2.1.2-py3-none-any.whl.metadata (2.9 kB)\n",
      "Collecting blinker>=1.6.2 (from Flask>=2.2->dwave-inspector==0.4.4->dwave-ocean-sdk)\n",
      "  Using cached blinker-1.7.0-py3-none-any.whl.metadata (1.9 kB)\n",
      "Collecting zipp>=0.5 (from importlib-metadata>=5.0.0->dwave-cloud-client==0.11.3->dwave-ocean-sdk)\n",
      "  Using cached zipp-3.18.1-py3-none-any.whl.metadata (3.5 kB)\n",
      "Collecting annotated-types>=0.4.0 (from pydantic<3,>=2->dwave-cloud-client==0.11.3->dwave-ocean-sdk)\n",
      "  Using cached annotated_types-0.6.0-py3-none-any.whl.metadata (12 kB)\n",
      "Collecting pydantic-core==2.16.3 (from pydantic<3,>=2->dwave-cloud-client==0.11.3->dwave-ocean-sdk)\n",
      "  Using cached pydantic_core-2.16.3-cp312-cp312-macosx_10_12_x86_64.whl.metadata (6.5 kB)\n",
      "Requirement already satisfied: six>=1.5 in /Users/macbookpro/Programming/Python/quantum_annealing/myvir/lib/python3.12/site-packages (from python-dateutil>=2.7->dwave-cloud-client==0.11.3->dwave-ocean-sdk) (1.16.0)\n",
      "Requirement already satisfied: charset-normalizer<4,>=2 in /Users/macbookpro/Programming/Python/quantum_annealing/myvir/lib/python3.12/site-packages (from requests>=2.18->requests[socks]>=2.18->dwave-cloud-client==0.11.3->dwave-ocean-sdk) (3.3.2)\n",
      "Requirement already satisfied: idna<4,>=2.5 in /Users/macbookpro/Programming/Python/quantum_annealing/myvir/lib/python3.12/site-packages (from requests>=2.18->requests[socks]>=2.18->dwave-cloud-client==0.11.3->dwave-ocean-sdk) (3.6)\n",
      "Requirement already satisfied: urllib3<3,>=1.21.1 in /Users/macbookpro/Programming/Python/quantum_annealing/myvir/lib/python3.12/site-packages (from requests>=2.18->requests[socks]>=2.18->dwave-cloud-client==0.11.3->dwave-ocean-sdk) (2.2.1)\n",
      "Requirement already satisfied: certifi>=2017.4.17 in /Users/macbookpro/Programming/Python/quantum_annealing/myvir/lib/python3.12/site-packages (from requests>=2.18->requests[socks]>=2.18->dwave-cloud-client==0.11.3->dwave-ocean-sdk) (2024.2.2)\n",
      "Collecting PySocks!=1.5.7,>=1.5.6 (from requests[socks]>=2.18->dwave-cloud-client==0.11.3->dwave-ocean-sdk)\n",
      "  Using cached PySocks-1.7.1-py3-none-any.whl.metadata (13 kB)\n",
      "Requirement already satisfied: MarkupSafe>=2.1.1 in /Users/macbookpro/Programming/Python/quantum_annealing/myvir/lib/python3.12/site-packages (from werkzeug>=2.2->dwave-cloud-client==0.11.3->dwave-ocean-sdk) (2.1.5)\n",
      "Requirement already satisfied: cffi>=1.12 in /Users/macbookpro/Programming/Python/quantum_annealing/myvir/lib/python3.12/site-packages (from cryptography->authlib<2,>=1.2->dwave-cloud-client==0.11.3->dwave-ocean-sdk) (1.16.0)\n",
      "Requirement already satisfied: pycparser in /Users/macbookpro/Programming/Python/quantum_annealing/myvir/lib/python3.12/site-packages (from cffi>=1.12->cryptography->authlib<2,>=1.2->dwave-cloud-client==0.11.3->dwave-ocean-sdk) (2.21)\n",
      "Using cached dwave_ocean_sdk-6.9.0-py3-none-any.whl (8.4 kB)\n",
      "Using cached dwave_cloud_client-0.11.3-py3-none-any.whl (138 kB)\n",
      "Using cached dwave_greedy-0.3.0-py3-none-any.whl (10 kB)\n",
      "Using cached dwave_hybrid-0.6.11-py3-none-any.whl (77 kB)\n",
      "Using cached dwave_inspector-0.4.4-py3-none-any.whl (31 kB)\n",
      "Using cached dwave_neal-0.6.0-py3-none-any.whl (8.7 kB)\n",
      "Using cached dwave_networkx-0.8.14-py3-none-any.whl (102 kB)\n",
      "Using cached dwave_preprocessing-0.6.5-cp312-cp312-macosx_10_9_x86_64.whl (752 kB)\n",
      "Using cached dwave_samplers-1.2.0-cp312-cp312-macosx_10_9_x86_64.whl (2.0 MB)\n",
      "Using cached dwave_system-1.23.0-py3-none-any.whl (103 kB)\n",
      "Using cached dwave_tabu-0.5.0-py3-none-any.whl (9.2 kB)\n",
      "Using cached dwavebinarycsp-0.3.0-py3-none-any.whl (35 kB)\n",
      "Using cached minorminer-0.2.13-cp312-cp312-macosx_10_9_x86_64.whl (912 kB)\n",
      "Using cached penaltymodel-1.1.0-py3-none-any.whl (36 kB)\n",
      "Using cached Authlib-1.3.0-py2.py3-none-any.whl (223 kB)\n",
      "Using cached click-8.1.7-py3-none-any.whl (97 kB)\n",
      "Using cached diskcache-5.6.3-py3-none-any.whl (45 kB)\n",
      "Using cached fasteners-0.19-py3-none-any.whl (18 kB)\n",
      "Using cached flask-3.0.2-py3-none-any.whl (101 kB)\n",
      "Using cached homebase-1.0.1-py2.py3-none-any.whl (11 kB)\n",
      "Downloading importlib_metadata-7.1.0-py3-none-any.whl (24 kB)\n",
      "Using cached networkx-3.2.1-py3-none-any.whl (1.6 MB)\n",
      "Using cached plucky-0.4.3-py2.py3-none-any.whl (10 kB)\n",
      "Using cached pydantic-2.6.4-py3-none-any.whl (394 kB)\n",
      "Using cached pydantic_core-2.16.3-cp312-cp312-macosx_10_12_x86_64.whl (1.9 MB)\n",
      "Using cached rectangle_packer-2.0.2-cp312-cp312-macosx_10_9_x86_64.whl (63 kB)\n",
      "Using cached werkzeug-3.0.1-py3-none-any.whl (226 kB)\n",
      "Using cached annotated_types-0.6.0-py3-none-any.whl (12 kB)\n",
      "Using cached blinker-1.7.0-py3-none-any.whl (13 kB)\n",
      "Using cached itsdangerous-2.1.2-py3-none-any.whl (15 kB)\n",
      "Using cached PySocks-1.7.1-py3-none-any.whl (16 kB)\n",
      "Using cached zipp-3.18.1-py3-none-any.whl (8.2 kB)\n",
      "Using cached cryptography-42.0.5-cp39-abi3-macosx_10_12_universal2.whl (5.9 MB)\n",
      "Installing collected packages: rectangle-packer, plucky, homebase, zipp, werkzeug, PySocks, pydantic-core, networkx, itsdangerous, fasteners, diskcache, click, blinker, annotated-types, pydantic, penaltymodel, importlib-metadata, Flask, dwave-samplers, dwave-preprocessing, dwave-networkx, cryptography, minorminer, dwavebinarycsp, dwave-tabu, dwave-neal, dwave-greedy, authlib, dwave-cloud-client, dwave-system, dwave-inspector, dwave-hybrid, dwave-ocean-sdk\n",
      "Successfully installed Flask-3.0.2 PySocks-1.7.1 annotated-types-0.6.0 authlib-1.3.0 blinker-1.7.0 click-8.1.7 cryptography-42.0.5 diskcache-5.6.3 dwave-cloud-client-0.11.3 dwave-greedy-0.3.0 dwave-hybrid-0.6.11 dwave-inspector-0.4.4 dwave-neal-0.6.0 dwave-networkx-0.8.14 dwave-ocean-sdk-6.9.0 dwave-preprocessing-0.6.5 dwave-samplers-1.2.0 dwave-system-1.23.0 dwave-tabu-0.5.0 dwavebinarycsp-0.3.0 fasteners-0.19 homebase-1.0.1 importlib-metadata-7.1.0 itsdangerous-2.1.2 minorminer-0.2.13 networkx-3.2.1 penaltymodel-1.1.0 plucky-0.4.3 pydantic-2.6.4 pydantic-core-2.16.3 rectangle-packer-2.0.2 werkzeug-3.0.1 zipp-3.18.1\n",
      "Note: you may need to restart the kernel to use updated packages.\n"
     ]
    }
   ],
   "source": [
    "pip install dwave-ocean-sdk"
   ]
  },
  {
   "cell_type": "markdown",
   "metadata": {
    "id": "Zw5Nu95vcwJO"
   },
   "source": [
    "上記のコードを実行すると、RESTART RUNTIMEというボタンが表示されると思います。\n",
    "そのボタンを押してランタイムの再行動をしておきましょう。\n",
    "これでD-Wave Systemsの量子アニーリングマシンを利用することができる準備が整いました。\n",
    "たったこれだけの準備だてでOKです。"
   ]
  },
  {
   "cell_type": "markdown",
   "metadata": {
    "id": "uFeftXGSdMs1"
   },
   "source": [
    "## **量子アニーリングマシンへの入力**\n",
    "\n",
    "量子アニーリングマシンでは一体どのようなことができるのでしょうか。\n",
    "できることはある意味数が少なく「組合せ最適化問題を解く」ということが主な用途となります。\n",
    "しかもその組合せ最適化問題のうち、\n",
    "シンプルな形を持つ次のような関数を最小化するだけという不器用さです。\n",
    "\\begin{equation}\n",
    "E({\\bf x})  = \\sum_{i=1}^{N} \\sum_{j=1}^N Q_{ij} x_i x_j\n",
    "\\end{equation}\n",
    "このような関数を最小化する問題のことを**制約なし2値の2次計画問題**と言います。英語でQuadratic unconstrained binary optimization（QUBO）と呼びます。\n",
    "最小化される対象となる関数のことを**コスト関数**と呼びます。"
   ]
  },
  {
   "cell_type": "markdown",
   "metadata": {
    "id": "FXyD2-_9dMvH"
   },
   "source": [
    "ここで$x_i$は$0$か$1$を取る２値の変数です。\n",
    "変数というのは、状況によって値を変えるものですので、ここではどんな値を取るのか、色々な可能性があります。\n",
    "$Q_{ij}$はQUBO行列と呼び、その値によって様々な組合せ最適化問題を表すことができます。"
   ]
  },
  {
   "cell_type": "markdown",
   "metadata": {
    "id": "tLb70uqFdMxP"
   },
   "source": [
    "### **高校数学との接点**\n",
    "シグマ記号（$\\Sigma$）が登場して驚く読者もいると思います。\n",
    "ただシグマ記号を始め、数学の記号はじっくり眺めるとちゃんと読むことのできるものであり、\n",
    "その読み方さえ習えば怖いものではないのです。\n",
    "それこそ辞書を片手に英語を読むようなものです。だからさっと見せられて翻訳の済む前に次の話に行くと、\n",
    "わからないままに進むので嫌な気分だけが記憶に残り、苦手意識に変わります。\n",
    "\n",
    "そこでじっくりとシグマ記号に慣れ親しむことにしましょう。\n",
    "シグマ記号は\n",
    "**「下についた文字の始まりから上に書いてある終わりまで、その数値を変えながら、どんどん足していくぞ」**\n",
    "という宣言をするものです。だから**たくさん足し算するぞ**と言っているだけです。\n"
   ]
  },
  {
   "cell_type": "markdown",
   "metadata": {
    "id": "oEWlU0EjdM4T"
   },
   "source": [
    "例えば先ほどのコスト関数は、、、\n",
    "\\begin{equation}\n",
    "\\sum_{i=1}^N \\sum_{j=1}^N Q_{ij}x_ix_j = Q_{11}x_1x_1 + Q_{12}x_1x_2 + Q_{13}x_1x_3 + \\ldots\n",
    "\\end{equation}\n",
    "というぐあいに、$i$に$1$を入れてから$j$に$1$を入れて$2$を入れて$3$を入れて、それらを全て足す、ということをしますよという意味です。"
   ]
  },
  {
   "cell_type": "markdown",
   "metadata": {
    "id": "p8BlwZzKcjkn"
   },
   "source": [
    "### **早速量子アニーリングマシンを使ってみよう！**\n",
    "\n",
    "いきなり数学の話が長々と続いてしまっては面白くなくなりますよね。\n",
    "早く量子アニーリングを実行したいと思っているはずですから。まずは動かすということをやってみましょう！\n",
    "まずは皆さん、D-Wave Systems社のWebページからアカウントを作成しましょう。\n",
    "実は1分間だけは誰でも無料で使えます。"
   ]
  },
  {
   "cell_type": "markdown",
   "metadata": {
    "id": "EacfNfq0zleF"
   },
   "source": [
    "### **アカウント登録**\n",
    "https://cloud.dwavesys.com/leap/\n",
    "にアクセスしてください。\n",
    "\n",
    "メールアドレスや氏名・所属情報を記入してご自身のアカウントを作成してください。\n",
    "\n",
    "そのアカウントでログインしたのちに、画面左下にあるAPI tokenをコピーしてください。"
   ]
  },
  {
   "cell_type": "markdown",
   "metadata": {
    "id": "-CHtp856zlgD"
   },
   "source": [
    "### **簡単な問題を投入してみよう！**\n",
    "\n",
    "それではアカウント登録が済んだら、そこで得られたご自身のAPI keyを利用して、量子アニーリングマシンに問題を投じてみましょう。先ほど紹介したように量子アニーリングマシンに問題を投じるというのは、QUBO行列をカナダにある量子アニーリングマシンに送信するという意味です。\n",
    "だからQUBO行列さえ用意することができれば良いわけです。\n",
    "やってみましょう。"
   ]
  },
  {
   "cell_type": "code",
   "execution_count": 1,
   "metadata": {
    "id": "XZEDrVPOz_F2"
   },
   "outputs": [],
   "source": [
    "import numpy as np\n",
    "\n",
    "N = 10\n",
    "QUBO = np.random.randn(N**2).reshape(N,N)"
   ]
  },
  {
   "cell_type": "markdown",
   "metadata": {
    "id": "mfy9gAZL0GIy"
   },
   "source": [
    "まずは簡単な例として、10×10行列によるQUBOを考えてみます。\n",
    "np.random.randn()は、平均0、分散1のガウス分布に従う乱数を生成するという関数です。\n",
    "それをN**2=100個作ったのち、reshape(N,N)として、10×10の行列の形にします。"
   ]
  },
  {
   "cell_type": "markdown",
   "metadata": {
    "id": "V44e1gKFyD7Q"
   },
   "source": [
    "これでQUBO行列が用意できました。\n",
    "このQUBO行列には正負の値がでたらめに入っています。\n",
    "それぞれの値を見ることもできます。"
   ]
  },
  {
   "cell_type": "code",
   "execution_count": 2,
   "metadata": {
    "colab": {
     "base_uri": "https://localhost:8080/"
    },
    "id": "b3Kmb3PNyYRd",
    "outputId": "86257d67-99e4-4651-cf3b-6ce3620b1328"
   },
   "outputs": [
    {
     "name": "stdout",
     "output_type": "stream",
     "text": [
      "-1.029487424454707\n"
     ]
    }
   ],
   "source": [
    "print(QUBO[0][1])"
   ]
  },
  {
   "cell_type": "markdown",
   "metadata": {
    "id": "jzt4b3xBybzd"
   },
   "source": [
    "$Q_{ij}$の値が正であれば、コスト関数の一部分を注目すると$Q_{ij}x_ix_j$を小さい値にするには、$x_ix_j = 0$になるのが良い。"
   ]
  },
  {
   "cell_type": "markdown",
   "metadata": {
    "id": "mWn1i2M20lnD"
   },
   "source": [
    "- $x_i=0$, $x_j=1$\n",
    "- $x_i=1$, $x_j=0$\n",
    "- $x_i=0$, $x_j=0$"
   ]
  },
  {
   "cell_type": "markdown",
   "metadata": {
    "id": "gu_QVIEs1HJK"
   },
   "source": [
    "という3通りが選ばれることになる。逆に$Q_{ij}$が負の値をとると$x_ix_j=1$となるのが良い。\n",
    "- $x_i=1$,$x_j=1$\n",
    "\n",
    "単純に$ij$のペア1つだけに注目するのであれば、こうした傾向を考えていけば良い。\n",
    "しかし他にも$i$にかかる別のペアから他の向きになることを要求される可能性もある。\n",
    "さらに$Q_{ii}x_ix_i$というQUBO行列の対角成分$Q_{ii}$の値次第で、$x_i$がまた影響を受ける。$Q_{ii}$が正の値を取ると$x_i=0$になった方が良いし、$Q_{ii}$が負の値を取ると$x_i=1$になった方が良い。\n",
    "以上のような様々な影響がかかり、どの向きを向いたら良いのかがすぐにはわからない悩ましい問題となる。組合せ最適化問題にはそうした悩ましい状況が往々にして生じる。\n",
    "こうした問題に対して、D-Wave Systemsの量子アニーリングマシンで答えを出してみよう。"
   ]
  },
  {
   "cell_type": "markdown",
   "metadata": {
    "id": "F03UTTZ3_9YU"
   },
   "source": [
    "まず先ほど登録したアカウントからAPI tokenを入手します。\n",
    "ログインした後の画面において左側にあるボタンからAPI tokenをコピーしましょう。\n",
    "そのtokenを以下の**の代わりに入力してください。"
   ]
  },
  {
   "cell_type": "code",
   "execution_count": 5,
   "metadata": {
    "id": "D5juECTB1g98"
   },
   "outputs": [],
   "source": [
    "#token = 'DEV-e5bf1d97c4cf19c56010372146f8cb7a9b720ac8'  # 個人のAPI tokenを使用\n",
    "token = 'DEV-ed0f34a3355b18cb3e7af999f584d853b1a3fca6'\n",
    "endpoint = 'https://cloud.dwavesys.com/sapi/'"
   ]
  },
  {
   "cell_type": "markdown",
   "metadata": {
    "id": "YQ4eXAXN2T1K"
   },
   "source": [
    "これでD-Wave Systems社の量子アニーリングマシンを利用する環境が整いました。\n",
    "続けて量子アニーリングマシンを呼び出す関数をいくつか用意します。"
   ]
  },
  {
   "cell_type": "code",
   "execution_count": 6,
   "metadata": {
    "id": "PquuZ9G2CBMP"
   },
   "outputs": [],
   "source": [
    "from dwave.system import DWaveSampler, EmbeddingComposite\n",
    "\n",
    "dw_sampler = DWaveSampler(solver='Advantage_system6.4', token=token, endpoint=endpoint)"
   ]
  },
  {
   "cell_type": "markdown",
   "metadata": {
    "id": "BOEtLqhnCGsv"
   },
   "source": [
    "まず from dwave.systemとあるのはOcean SDKのdwave.systemの中からということです。\n",
    "\n",
    "**import DWaveSampler**でDWaveSamplerという関数を呼び出しており、\n",
    "\n",
    "**import EmbeddingComposite**でEmbeddingCompositeという関数を呼び出しています。\n",
    "\n",
    "この呼び出した関数のうちDWaveSamplerは、量子アニーリングマシンにアクセスするための関数です。\n",
    "solver=というオプションで、どの量子アニーリングマシンを使うのかを指定することができます。\n",
    "\n",
    "最新式の量子アニーリングマシンはD-Wave Advantageであり、それを利用する場合には\n",
    "\n",
    "**solver = 'Advantage_system1.1'**としましょう。\n",
    "\n",
    "前の形式の量子アニーリングマシンであるD-Wave 2000Qを利用する場合には\n",
    "\n",
    "**solver = 'DW_2000Q_6'**としましょう。\n",
    "\n",
    "それぞれ利用したいものを指定すれば準備完了です。\n",
    "\n",
    "量子アニーリングマシンの中にはQPU（Quantum Processing Unit）と呼ばれる部品があり、\n",
    "そこに搭載された超伝導量子ビットによる回路のパラメータを調整して$Q_{ij}$を与えます。\n",
    "回路の設計上、$Q_{ij}$で指定された構造を作ることができない場合には、他の回路や量子ビットをうまく組み合わせるエンベッドという作業をします。\n",
    "その作業をするには先ほど読み込んだ関数のうちEmbeddingComposite()という関数を利用することができます。"
   ]
  },
  {
   "cell_type": "code",
   "execution_count": 7,
   "metadata": {
    "id": "xlidH5HhHEF9"
   },
   "outputs": [],
   "source": [
    "sampler = EmbeddingComposite(dw_sampler)"
   ]
  },
  {
   "cell_type": "markdown",
   "metadata": {
    "id": "jQBD8SUmCGvM"
   },
   "source": [
    "エンべディングを終えると、超伝導量子ビットにどの$x_i$を割り当てるか、\n",
    "どのように$Q_{ij}$を割り当てるのかが決められた新しいsamplerに置き換わります。\n",
    "これを利用することで,先ほど用意したQUBO行列に基づく組合せ最適化問題を量子アニーリングマシンに解かせることができます。"
   ]
  },
  {
   "cell_type": "code",
   "execution_count": 8,
   "metadata": {
    "id": "1PbAeKHRCGBj"
   },
   "outputs": [],
   "source": [
    "sampleset = sampler.sample_qubo(QUBO, num_reads=10)"
   ]
  },
  {
   "cell_type": "markdown",
   "metadata": {
    "id": "R3cmzq7GK1RX"
   },
   "source": [
    "sampler.sample_quboというのが、用意したsamplerの機能のうちQUBO形式の組合せ最適化問題を解く関数です。この引数として、先ほど用意したQUBO行列を入れます。\n",
    "num_readsは非常にユニークなオプションで、何度結果を読み出すかを指定するところです。\n",
    "結果を受け取ったsamplesetには、指定した組合せ最適化問題をnum_readsで指定した回数分解いた答えが格納されています。"
   ]
  },
  {
   "cell_type": "code",
   "execution_count": 9,
   "metadata": {
    "colab": {
     "base_uri": "https://localhost:8080/"
    },
    "id": "MXHWX34fM8Xc",
    "outputId": "45b6bcf2-01f2-4b67-f03b-e859b70fa845"
   },
   "outputs": [
    {
     "name": "stdout",
     "output_type": "stream",
     "text": [
      "[([1, 0, 0, 1, 1, 1, 0, 0, 1, 1], -13.18798546, 9, 0.)\n",
      " ([1, 0, 0, 1, 1, 1, 0, 0, 1, 0], -11.60986694, 1, 0.)]\n"
     ]
    }
   ],
   "source": [
    "print(sampleset.record)"
   ]
  },
  {
   "cell_type": "markdown",
   "metadata": {
    "id": "LbtbInMfNh4i"
   },
   "source": [
    "結果の一番目を取り出したいときはsampleset.record[0]として、\n",
    "$x_i$などの結果を知りたいときは、sampleset.record[0][0]から取り出すことができます。\n",
    "さらにコスト関数の値を知りたいときはsampleset.record[0][1]\n",
    "その答えが何度出てきたのか頻度を知りたいときはsampleset.record[0][2]で調べることができます。"
   ]
  },
  {
   "cell_type": "code",
   "execution_count": 14,
   "metadata": {
    "colab": {
     "base_uri": "https://localhost:8080/"
    },
    "id": "DQPBPoXNNSKd",
    "outputId": "92440484-aaef-4925-a53e-4503f339e300"
   },
   "outputs": [
    {
     "data": {
      "text/plain": [
       "array([1, 1, 1, 0, 1, 1, 0, 1, 1, 1], dtype=int8)"
      ]
     },
     "execution_count": 14,
     "metadata": {},
     "output_type": "execute_result"
    }
   ],
   "source": [
    "sampleset.record[0][0]"
   ]
  },
  {
   "cell_type": "markdown",
   "metadata": {
    "id": "TWAnuQk_Kxfh"
   },
   "source": [
    "簡単に利用できることがご理解いただけましたかね。では次に行ってみよう！"
   ]
  },
  {
   "cell_type": "markdown",
   "metadata": {
    "id": "dWzmOoJPzlkJ"
   },
   "source": [
    "### **実感の湧く問題を解いてみよう**"
   ]
  },
  {
   "cell_type": "markdown",
   "metadata": {
    "id": "gzgI7qDUzll-"
   },
   "source": [
    "上記の例はでたらめなQUBO行列によるものであったので、あまり解いたとしても実感が湧かない。\n",
    "そこで少し具体的に意味のある問題を解いてみることにしましょう。\n"
   ]
  },
  {
   "cell_type": "markdown",
   "metadata": {
    "id": "gu_yM2KXzloD"
   },
   "source": [
    "**いくつかの荷物があり、それぞれには重さが異なるものとします。\n",
    "それを運ぶ2人がいて、重さが均等になるようにその荷物を2つのグループに分けたい。**"
   ]
  },
  {
   "cell_type": "markdown",
   "metadata": {
    "id": "40LzLXSPzlqM"
   },
   "source": [
    "どのようにしたら良いでしょうか？\n",
    "ここで考えなければならないのは**QUBO行列を作る**ことです。\n",
    "ただしいきなり$Q_{ij}$のことを思っても何も思い浮かばないものです。\n",
    "そこで重要となるのが**数式によるモデリング**です。\n",
    "ここが量子アニーリングの研究開発を行う上での成長ポイントです。\n",
    "量子そのものの前に、数理モデリングに挑戦する必要があるのです。"
   ]
  },
  {
   "cell_type": "markdown",
   "metadata": {
    "id": "SwFe5FJEzlsX"
   },
   "source": [
    "重さを持ついくつかの荷物があるというのだから、その重さを$w_i$としましょう。\n",
    "$N$個あるとして、合計した重さは$W=\\sum_{i=1}^N w_i$です。\n",
    "\n",
    "（こうやって何も与えられていないところで**自分で文字式を立てる**ところから訓練です）\n"
   ]
  },
  {
   "cell_type": "markdown",
   "metadata": {
    "id": "4vbhaCW3zlup"
   },
   "source": [
    "2人のうちAさんがその荷物を取る場合$x_i=1$として、取らない場合は$x_i=0$とすると、\n",
    "Aさんが持つ荷物の重さの合計は、\n",
    "\\begin{equation}\n",
    "W_A = \\sum_{i=1}^N w_i x_i\n",
    "\\end{equation}\n",
    "逆にBさんは残りの荷物を持つので\n",
    "\\begin{equation}\n",
    "W_B = W - W_A\n",
    "\\end{equation}\n",
    "となります。\n",
    "これらが等しくなるというのだから、\n",
    "\\begin{equation}\n",
    "W_A - W_B\n",
    "\\end{equation}\n",
    "という引き算をしたズレが$0$になれば完璧です。\n",
    "もしくは非常に小さいものとなってくれれば嬉しい。\n",
    "ただ$W_A$がわずかに大きくても仕方ないし、小さくても仕方ない。正負の値どちらでも良いからとにかく**ズレの大きさ**ができるだけ小さいことが望ましいというわけです。\n",
    "できるだけ小さい、すなわちズレの大きさが最小になるような組み合わせを見つければ良いですよね。\n",
    "そうするとコスト関数として、次のようなものを考えてみましょう。\n",
    "\\begin{equation}\n",
    "E({\\bf x}) = \\left( W_A - W_B \\right)^2 = \\left( 2W_A - W \\right)^2\n",
    "\\end{equation}\n",
    "ここに$W_A$の具体的な形として先ほど準備しておいた形を入れてみましょう。\n",
    "\\begin{equation}\n",
    "E({\\bf x}) = \\left( 2\\sum_{i=1}^N w_i x_i - W \\right)^2\n",
    "\\end{equation}\n",
    "\n"
   ]
  },
  {
   "cell_type": "markdown",
   "metadata": {
    "id": "XS7EVj71zlwx"
   },
   "source": [
    "何か近い形になってきましたね。二乗をするというのは同じものを掛け算するという意味です。\n",
    "シグマ記号は嫌らしいけれども意味はとにかく足し算をするというものでした。\n",
    "下にある$i=1$は$i$という文字を$1$から動かして上にある$N$まで変えて足し算してくださいね、ということです。\n",
    "だったら$i$という文字は仮置きをしているだけですから、別の文字を使っても良いですね。\n"
   ]
  },
  {
   "cell_type": "markdown",
   "metadata": {
    "id": "OXjkUAmOXRcx"
   },
   "source": [
    "\\begin{equation}\n",
    "E({\\bf x}) = \\left( 2\\sum_{i=1}^N w_i x_i - W \\right)\\left( 2\\sum_{j=1}^N w_j x_j - W \\right)\n",
    "\\end{equation}"
   ]
  },
  {
   "cell_type": "markdown",
   "metadata": {
    "id": "NZifi9yCXWyS"
   },
   "source": [
    "この掛け算を展開してみましょう。"
   ]
  },
  {
   "cell_type": "markdown",
   "metadata": {
    "id": "i3VkKv_WXbow"
   },
   "source": [
    "\\begin{equation}\n",
    "E({\\bf x}) = 4\\sum_{i=1}^N\\sum_{j=1}^N w_iw_j x_ix_j - 2W\\sum_{i=1}^N w_i x_i  - 2W\\sum_{j=1}^N w_j x_j + W^2\n",
    "\\end{equation}"
   ]
  },
  {
   "cell_type": "markdown",
   "metadata": {
    "id": "J6GWTPrzY9vy"
   },
   "source": [
    "ここで第二項と第三項で同じ和が2つ出ていますので、まとめておきましょう。\n",
    "\\begin{equation}\n",
    "E({\\bf x}) = 4\\sum_{i=1}^N\\sum_{j=1}^N w_iw_j x_ix_j - 4W\\sum_{i=1}^N w_i x_i + W^2\n",
    "\\end{equation}\n"
   ]
  },
  {
   "cell_type": "markdown",
   "metadata": {
    "id": "6rFLqcTlYtO6"
   },
   "source": [
    "$x_ix_j$という部分が出てきましたね。その係数は$4w_iw_j$で、この部分がQUBO行列に相当します。$x_i$が$0$と$1$のどちらかの値を持つことから、$x_i$が$x_ix_i$と同じことを思いつくと、第二項は、$-4W\\sum_{i=1}^N w_i x_ix_i$という意味で、QUBO行列のうち添え字が同じ$i$と$i$のとき、対角成分のことを示していることがわかります。\n",
    "これらの事実からQUBO行列を作るプログラムの発想ができます。"
   ]
  },
  {
   "cell_type": "code",
   "execution_count": 33,
   "metadata": {
    "id": "IkimRioVZ25x"
   },
   "outputs": [],
   "source": [
    "N = 10\n",
    "w = np.random.rand(N)"
   ]
  },
  {
   "cell_type": "markdown",
   "metadata": {
    "id": "BtaN3gwwZ6_o"
   },
   "source": [
    "まず例えば$N=10$個の荷物について、その重さを適当な乱数で決めることにしましょう。\n",
    "\n",
    "np.random.rand()で$0$から$1$の範囲にある適当な数値が出ます。\n",
    "\n",
    "この係数からQUBO行列を作ります。\n",
    "まず最初に全重量の計算です。"
   ]
  },
  {
   "cell_type": "code",
   "execution_count": 34,
   "metadata": {
    "id": "bBEtvgMcXQxB"
   },
   "outputs": [],
   "source": [
    "W = np.sum(w)"
   ]
  },
  {
   "cell_type": "markdown",
   "metadata": {
    "id": "sf6-PIHAaUbo"
   },
   "source": [
    "numpyのsum()を利用すれば全重量の合計が計算できます。"
   ]
  },
  {
   "cell_type": "code",
   "execution_count": 35,
   "metadata": {
    "id": "B6UbhVJ_abdQ"
   },
   "outputs": [],
   "source": [
    "Q = np.zeros(N**2).reshape(N,N)"
   ]
  },
  {
   "cell_type": "markdown",
   "metadata": {
    "id": "3lLNGyMKzlzE"
   },
   "source": [
    "まずはQUBO行列を格納する場所を用意しましょう。np.zeros()はその名の通り、全成分を0で埋めたものを並べて作ります。これを.reshape(N,N)でN×Nの行列に整形します。"
   ]
  },
  {
   "cell_type": "code",
   "execution_count": 36,
   "metadata": {
    "id": "tRE0jFCCas-4"
   },
   "outputs": [],
   "source": [
    "for i in range(N):\n",
    "  for j in range(N):\n",
    "    Q[i][j] = 4*w[i]*w[j]"
   ]
  },
  {
   "cell_type": "markdown",
   "metadata": {
    "id": "I3i4SSXWzl1N"
   },
   "source": [
    "まず第一項の計算をここで実行しています。for文を使って、iとjを動かしながら、$Q_{ij}$すなわちQ[i][j]に値を入れていきます。その値は$4w_iw_j$ですから、その結果を入れていきます。\n",
    "次に第二項をQUBO行列の対角成分に追加しましょう。"
   ]
  },
  {
   "cell_type": "code",
   "execution_count": 37,
   "metadata": {
    "id": "TraXwF00bOdq"
   },
   "outputs": [],
   "source": [
    "for i in range(N):\n",
    "  Q[i][i] = Q[i][i] - 4*W*w[i]"
   ]
  },
  {
   "cell_type": "markdown",
   "metadata": {
    "id": "iBsMrsaNbWGA"
   },
   "source": [
    "ここで注意して欲しいのが、第一項で計算した結果に追加するので、元からあるQ[i][i]に引き算をするようにしています。\n",
    "\n",
    "これでQUBO行列の作成完了です。\n",
    "すでにD-Waveマシンの利用準備は整っておりますので、QUBO行列を投入するだけです。"
   ]
  },
  {
   "cell_type": "code",
   "execution_count": 45,
   "metadata": {
    "id": "6le7e1vccnpU"
   },
   "outputs": [],
   "source": [
    "sampleset = sampler.sample_qubo(Q) #, num_reads=10)"
   ]
  },
  {
   "cell_type": "code",
   "execution_count": 46,
   "metadata": {
    "colab": {
     "base_uri": "https://localhost:8080/"
    },
    "id": "Ox0otlu5eFYB",
    "outputId": "9f9b1249-1346-490f-813c-af069e655862"
   },
   "outputs": [
    {
     "name": "stdout",
     "output_type": "stream",
     "text": [
      "[([1, 0, 1, 0, 1, 0, 1, 0, 0, 1], -30.31686487, 1)]\n"
     ]
    }
   ],
   "source": [
    "print(sampleset.record)"
   ]
  },
  {
   "cell_type": "markdown",
   "metadata": {
    "id": "j-nG_poleIKR"
   },
   "source": [
    "結果が出てきましたね。それでは一番結果の良かった一番目の結果を抜き出してみましょう。"
   ]
  },
  {
   "cell_type": "code",
   "execution_count": 42,
   "metadata": {
    "id": "ExDMgxAQy-yZ"
   },
   "outputs": [],
   "source": [
    "x = sampleset.record[0][0]"
   ]
  },
  {
   "cell_type": "markdown",
   "metadata": {
    "id": "PZnR0skCeUx4"
   },
   "source": [
    "結果を示す$x_i$の数列をxに格納しました。\n",
    "これから$W_A$と$W_B$を計算してみましょう。\n"
   ]
  },
  {
   "cell_type": "code",
   "execution_count": 43,
   "metadata": {
    "colab": {
     "base_uri": "https://localhost:8080/"
    },
    "id": "EER-2s6VeTER",
    "outputId": "e4709e49-2dfe-4fbe-8576-9b58a87f0ff2"
   },
   "outputs": [
    {
     "name": "stdout",
     "output_type": "stream",
     "text": [
      "2.755579502868585\n"
     ]
    }
   ],
   "source": [
    "print(np.dot(w,x))"
   ]
  },
  {
   "cell_type": "code",
   "execution_count": 44,
   "metadata": {
    "colab": {
     "base_uri": "https://localhost:8080/"
    },
    "id": "FEZeQCcOeg-L",
    "outputId": "0edcba62-c250-4dea-88e8-0c7ce234881d"
   },
   "outputs": [
    {
     "name": "stdout",
     "output_type": "stream",
     "text": [
      "2.750498110944389\n"
     ]
    }
   ],
   "source": [
    "print(W-np.dot(w,x))"
   ]
  },
  {
   "cell_type": "markdown",
   "metadata": {
    "id": "Kpb5K9YLg4_9"
   },
   "source": [
    "ほぼ揃った答えがうまく出せたでしょうか？"
   ]
  },
  {
   "cell_type": "markdown",
   "metadata": {
    "id": "tK2pSw4KhFeg"
   },
   "source": [
    "### **他のソルバーを利用してみよう！**"
   ]
  },
  {
   "cell_type": "markdown",
   "metadata": {
    "id": "mRWMJ28qjUk7"
   },
   "source": [
    "D-Wave Systems社の量子アニーリングマシンは、QPUの成長とともに扱える問題の規模を大きくしてきました。\n",
    "最近ではハイブリッドソルバーの登場により、飛躍的にその規模を大きくしました。\n",
    "純粋に量子現象を利用した計算だけではないものの、古典的な計算アルゴリズムを巧みに利用して、計算性能も向上させているため大規模な問題を解く上では有用です。\n",
    "その利用方法についても容易であり、以下のようなコードでsamplerを書き換えるだけです。\n",
    "\n"
   ]
  },
  {
   "cell_type": "code",
   "execution_count": 60,
   "metadata": {
    "id": "2SODQpKdj-1a"
   },
   "outputs": [],
   "source": [
    "from dwave.system import LeapHybridSampler\n",
    "sampler = LeapHybridSampler(solver='hybrid_binary_quadratic_model_version2', token=token, endpoint=endpoint)"
   ]
  },
  {
   "cell_type": "markdown",
   "metadata": {
    "id": "MaUJ6H0HkEfF"
   },
   "source": [
    "ソルバーのオプションとして、solver='hybrid_binary_quadratic_model_version2'を選ぶだけでOKです。注意としてはハイブリッドソルバーを利用する場合には、エンベッドの必要がないことです。ここで用意したsamplerを使って直ちに結果を得ることができます。"
   ]
  },
  {
   "cell_type": "code",
   "execution_count": 61,
   "metadata": {
    "id": "bkd5hXLPky55"
   },
   "outputs": [],
   "source": [
    "sampleset = sampler.sample_qubo(Q)"
   ]
  },
  {
   "cell_type": "markdown",
   "metadata": {
    "id": "WvevSC0BkC9-"
   },
   "source": [
    "注意としてハイブリッドソルバーは、オプションとしてnum_readsを持ちません。\n",
    "ハイブリッドソルバーは**最大で100万変数**のものを扱うことができる（扱うことのできるQUBO行列には全ての値が詰まっていないなどの条件はあります）\n"
   ]
  },
  {
   "cell_type": "code",
   "execution_count": 62,
   "metadata": {
    "colab": {
     "base_uri": "https://localhost:8080/"
    },
    "id": "em70zZwplHqS",
    "outputId": "10a2d7a0-97b8-4a76-d7a6-4ef6222ffa7f"
   },
   "outputs": [
    {
     "name": "stdout",
     "output_type": "stream",
     "text": [
      "[([0, 1, 1, 0], -5., 1)]\n"
     ]
    }
   ],
   "source": [
    "print(sampleset.record)"
   ]
  },
  {
   "cell_type": "markdown",
   "metadata": {
    "id": "XmkD0jEplawq"
   },
   "source": [
    "場合によっては上記の純粋な量子現象のみのQPUによる結果よりも良好な結果を得たのではないでしょうか。これがD-Wave Systems社の用意したハイブリッドソルバーの威力です。\n",
    "他にもD-Wave Systems社が用意したソルバーとして、**整数値を利用することのできるhybrid_discrete_quadratic_model_version1**があります。"
   ]
  },
  {
   "cell_type": "markdown",
   "metadata": {
    "id": "45jyT_Vh6nZB"
   },
   "source": [
    "### **QUBO行列の設定方法について**"
   ]
  },
  {
   "cell_type": "markdown",
   "metadata": {
    "id": "Z1C_kBE96saW"
   },
   "source": [
    "QUBO行列はだんだんと巨大なものになってくると、そのデータ転送にも時間がかかるようになり、せっかくの量子アニーリングマシンのパワーを台無しにしてしまうことがあります。\n",
    "データの転送量を抑えるためにも、不要な成分についてはその情報を送らないようにしておくと良いでしょう。\n",
    "python上ではnumpyによるarray形式で行列を扱うことが多いのですが、代わりにdict形式でデータを送りましょう。\n"
   ]
  },
  {
   "cell_type": "code",
   "execution_count": 28,
   "metadata": {
    "id": "w6DAxcPm7FCn"
   },
   "outputs": [],
   "source": [
    "Qdict = {}\n",
    "for i in range(N):\n",
    "  for j in range(N):\n",
    "    if Q[i][j] != 0.0:\n",
    "      Qdict[(i,j)] = Q[i][j]"
   ]
  },
  {
   "cell_type": "markdown",
   "metadata": {
    "id": "Uiv3XbN77RnA"
   },
   "source": [
    "dict形式の初期化は{}で中身は空欄にしておくだけです。\n",
    "Qdict[(i,j)]のように(i,j)でどの成分に値があるのかを指定して、その値を代入します。\n",
    "ここではif文を使い、ゼロではないところだけ、Qdictのデータとして格納しています。\n",
    "出来上がったものを確認したい場合にはQdictとそのまま打って実行したり、print(Qdict)と実行してみましょう。"
   ]
  },
  {
   "cell_type": "code",
   "execution_count": 29,
   "metadata": {
    "colab": {
     "base_uri": "https://localhost:8080/"
    },
    "id": "tKL6Jbtg7m_a",
    "outputId": "99884cb0-7489-469a-f386-0a84be1724f8"
   },
   "outputs": [
    {
     "name": "stdout",
     "output_type": "stream",
     "text": [
      "{(0, 0): -9.060223972671707, (0, 1): 0.3995911840054498, (0, 2): 1.6064320170236857, (0, 3): 0.9222680627465616, (0, 4): 1.4787117144158974, (0, 5): 1.367346437106489, (0, 6): 1.497842740490275, (0, 7): 0.5311064992925091, (0, 8): 0.11894568747970466, (0, 9): 1.1379796301111358, (1, 0): 0.3995911840054498, (1, 1): -5.492738009511752, (1, 2): 0.9447108920958964, (1, 3): 0.542367604153654, (1, 4): 0.8696011085901421, (1, 5): 0.8041093919407178, (1, 6): 0.8808516865902745, (1, 7): 0.31233322632236665, (1, 8): 0.06994960592114163, (1, 9): 0.66922330989211, (2, 0): 1.6064320170236857, (2, 1): 0.9447108920958964, (2, 2): -19.228638736733053, (2, 3): 2.1804201873907596, (2, 4): 3.4959606687905374, (2, 5): 3.232671600646223, (2, 6): 3.5411901168686226, (2, 7): 1.255638549667582, (2, 8): 0.28121062482794656, (2, 9): 2.6904040794218003, (3, 0): 0.9222680627465616, (3, 1): 0.542367604153654, (3, 2): 2.1804201873907596, (3, 3): -11.967966331990596, (3, 4): 2.007064624755972, (3, 5): 1.8559078398770856, (3, 6): 2.0330312856641357, (3, 7): 0.7208741611471184, (3, 8): 0.16144572284131486, (3, 9): 1.5445868434139938, (4, 0): 1.4787117144158974, (4, 1): 0.8696011085901421, (4, 2): 3.4959606687905374, (4, 3): 2.007064624755972, (4, 4): -17.977803106980474, (4, 5): 2.975656183441642, (4, 6): 3.2596457573655457, (4, 7): 1.1558082836930066, (4, 8): 0.2588528121605332, (4, 9): 2.4765019537671957, (5, 0): 1.367346437106489, (5, 1): 0.8041093919407178, (5, 2): 3.232671600646223, (5, 3): 1.8559078398770856, (5, 4): 2.975656183441642, (5, 5): -16.847955932518655, (5, 6): 3.0141541242362018, (5, 7): 1.0687616276239922, (5, 8): 0.23935799452465278, (5, 9): 2.2899907331216505, (6, 0): 1.497842740490275, (6, 1): 0.8808516865902745, (6, 2): 3.5411901168686226, (6, 3): 2.0330312856641357, (6, 4): 3.2596457573655457, (6, 5): 3.0141541242362018, (6, 6): -18.16822119136922, (6, 7): 1.1707617044286007, (6, 8): 0.2622017542501854, (6, 9): 2.5085420214753773, (7, 0): 0.5311064992925091, (7, 1): 0.31233322632236665, (7, 2): 1.255638549667582, (7, 3): 0.7208741611471184, (7, 4): 1.1558082836930066, (7, 5): 1.0687616276239922, (7, 6): 1.1707617044286007, (7, 7): -7.197737007603887, (7, 8): 0.09297174666186182, (7, 9): 0.8894812087668504, (8, 0): 0.11894568747970466, (8, 1): 0.06994960592114163, (8, 2): 0.28121062482794656, (8, 3): 0.16144572284131486, (8, 4): 0.2588528121605332, (8, 5): 0.23935799452465278, (8, 6): 0.2622017542501854, (8, 7): 0.09297174666186182, (8, 8): -1.6841426125247567, (8, 9): 0.1992066638574159, (9, 0): 1.1379796301111358, (9, 1): 0.66922330989211, (9, 2): 2.6904040794218003, (9, 3): 1.5445868434139938, (9, 4): 2.4765019537671957, (9, 5): 2.2899907331216505, (9, 6): 2.5085420214753773, (9, 7): 0.8894812087668504, (9, 8): 0.1992066638574159, (9, 9): -14.40591644382753}\n"
     ]
    }
   ],
   "source": [
    "print(Qdict)"
   ]
  },
  {
   "cell_type": "markdown",
   "metadata": {
    "id": "U-5Lhef57D8S"
   },
   "source": [
    "どこの成分に重要な非零の行列成分があるのかを指定する形になっています。\n",
    "上記の問題では非零成分のない問題になっていますので影響はさほどありませんが、\n",
    "基本的なテクニックとして知っておくと良いでしょう。\n",
    "\n",
    "（正直この入力の違いだけでハイブリッドソルバーなどでは如実に性能が変わります）"
   ]
  },
  {
   "cell_type": "markdown",
   "metadata": {
    "id": "z4LcRgYE4J_b"
   },
   "source": [
    "### **シミュレータを活用しよう**"
   ]
  },
  {
   "cell_type": "markdown",
   "metadata": {
    "id": "d3kszBzahK9k"
   },
   "source": [
    "さて上記のように用意した量子アニーリングマシンは、利用回数には制限があり、大事に使いたいところでしょう。演習の際には豊富なマシンタイムを利用することのできるAPI tokenを発行する予定ですが、講義の間の試し利用の場合には、代わりになるシミュレータを利用すると良いでしょう。\n",
    "その一つが**株式会社Jijの開発するOpenJij**です。\n",
    "\n",
    "OpenJijは量子アニーリングマシンのシミュレータを搭載するオープンソースソフトウェアです。\n"
   ]
  },
  {
   "cell_type": "markdown",
   "metadata": {
    "id": "IP9-zetq5OZP"
   },
   "source": [
    "基本的な利用方法は、これまでと同じようにQUBO行列を作ったのちにsamplerに投入するだけです。その際にOpenJijのsamplerを利用します。"
   ]
  },
  {
   "cell_type": "markdown",
   "metadata": {
    "id": "u-5Dp62i5YN_"
   },
   "source": [
    "その前にまずはOpenJijのインストールが必要です。"
   ]
  },
  {
   "cell_type": "code",
   "execution_count": null,
   "metadata": {
    "colab": {
     "base_uri": "https://localhost:8080/"
    },
    "id": "GiWddXap5fIL",
    "outputId": "6a43252b-387e-4c6b-f419-c0f14c0846ae"
   },
   "outputs": [
    {
     "name": "stdout",
     "output_type": "stream",
     "text": [
      "Collecting openjij\n",
      "  Downloading openjij-0.9.2-cp310-cp310-manylinux_2_28_x86_64.whl (11.8 MB)\n",
      "\u001b[2K     \u001b[90m━━━━━━━━━━━━━━━━━━━━━━━━━━━━━━━━━━━━━━━━\u001b[0m \u001b[32m11.8/11.8 MB\u001b[0m \u001b[31m5.5 MB/s\u001b[0m eta \u001b[36m0:00:00\u001b[0m\n",
      "\u001b[?25hRequirement already satisfied: numpy<1.27.0,>=1.17.3 in /usr/local/lib/python3.10/dist-packages (from openjij) (1.25.2)\n",
      "Requirement already satisfied: dimod<0.13.0 in /usr/local/lib/python3.10/dist-packages (from openjij) (0.12.14)\n",
      "Requirement already satisfied: scipy<1.12.0,>=1.7.3 in /usr/local/lib/python3.10/dist-packages (from openjij) (1.11.4)\n",
      "Requirement already satisfied: requests<2.32.0,>=2.28.0 in /usr/local/lib/python3.10/dist-packages (from openjij) (2.31.0)\n",
      "Collecting jij-cimod<1.7.0,>=1.6.0 (from openjij)\n",
      "  Downloading jij_cimod-1.6.2-cp310-cp310-manylinux_2_28_x86_64.whl (11.6 MB)\n",
      "\u001b[2K     \u001b[90m━━━━━━━━━━━━━━━━━━━━━━━━━━━━━━━━━━━━━━━━\u001b[0m \u001b[32m11.6/11.6 MB\u001b[0m \u001b[31m4.9 MB/s\u001b[0m eta \u001b[36m0:00:00\u001b[0m\n",
      "\u001b[?25hRequirement already satisfied: typing-extensions>=4.2.0 in /usr/local/lib/python3.10/dist-packages (from openjij) (4.10.0)\n",
      "Requirement already satisfied: charset-normalizer<4,>=2 in /usr/local/lib/python3.10/dist-packages (from requests<2.32.0,>=2.28.0->openjij) (3.3.2)\n",
      "Requirement already satisfied: idna<4,>=2.5 in /usr/local/lib/python3.10/dist-packages (from requests<2.32.0,>=2.28.0->openjij) (3.6)\n",
      "Requirement already satisfied: urllib3<3,>=1.21.1 in /usr/local/lib/python3.10/dist-packages (from requests<2.32.0,>=2.28.0->openjij) (2.0.7)\n",
      "Requirement already satisfied: certifi>=2017.4.17 in /usr/local/lib/python3.10/dist-packages (from requests<2.32.0,>=2.28.0->openjij) (2024.2.2)\n",
      "Installing collected packages: jij-cimod, openjij\n",
      "Successfully installed jij-cimod-1.6.2 openjij-0.9.2\n"
     ]
    }
   ],
   "source": [
    "pip install openjij"
   ]
  },
  {
   "cell_type": "markdown",
   "metadata": {
    "id": "3xLQbXWn5bp3"
   },
   "source": [
    "再びpip installを利用して、OpenJijをインストールします。\n",
    "その後にimport SQASamplerを実行してsamplerの準備を行いましょう。"
   ]
  },
  {
   "cell_type": "code",
   "execution_count": 49,
   "metadata": {
    "id": "iOnD6obYfGnp"
   },
   "outputs": [],
   "source": [
    "from openjij import SQASampler\n",
    "sampler = SQASampler()"
   ]
  },
  {
   "cell_type": "markdown",
   "metadata": {
    "id": "2_l066yk8AcA"
   },
   "source": [
    "準備はこれだけです。SQAというのはシミュレーテッド量子アニーリングというもので、\n",
    "**量子モンテカルロ法**という計算技術を活用して、**量子アニーリングのシミュレーション**を行っています。\n",
    "オプションでそのシミュレーションのパラメータ等を設定することができますが、とりあえず前に進めていきましょう。"
   ]
  },
  {
   "cell_type": "code",
   "execution_count": 50,
   "metadata": {
    "id": "fR5-8aee5vDn"
   },
   "outputs": [],
   "source": [
    "sampleset = sampler.sample_qubo(Qdict, num_reads=10)"
   ]
  },
  {
   "cell_type": "code",
   "execution_count": 51,
   "metadata": {
    "colab": {
     "base_uri": "https://localhost:8080/"
    },
    "id": "iJeu9wTa6g0K",
    "outputId": "f199f36c-e293-4e7f-cb62-4250d5542dea"
   },
   "outputs": [
    {
     "name": "stdout",
     "output_type": "stream",
     "text": [
      "[([1, 0, 1, 1, 1, 0, 0, 0, 0, 0], -34.8529176 , 1)\n",
      " ([1, 0, 0, 1, 0, 1, 1, 0, 1, 0], -34.78350674, 1)\n",
      " ([1, 1, 0, 1, 1, 0, 1, 0, 1, 0], -34.82635252, 1)\n",
      " ([0, 1, 1, 0, 1, 0, 1, 0, 1, 0], -34.8231936 , 1)\n",
      " ([1, 0, 0, 0, 1, 0, 1, 0, 0, 1], -34.89371708, 1)\n",
      " ([1, 0, 0, 1, 0, 1, 0, 1, 0, 1], -34.8231936 , 1)\n",
      " ([0, 0, 0, 0, 0, 1, 1, 1, 0, 1], -34.73644774, 1)\n",
      " ([0, 0, 1, 1, 1, 0, 0, 1, 1, 0], -34.83579303, 1)\n",
      " ([0, 1, 0, 0, 0, 1, 1, 1, 1, 1], -34.8529176 , 1)\n",
      " ([1, 1, 1, 0, 0, 1, 0, 1, 0, 0], -34.78189081, 1)]\n"
     ]
    }
   ],
   "source": [
    "print(sampleset.record)"
   ]
  },
  {
   "cell_type": "code",
   "execution_count": 10,
   "metadata": {
    "colab": {
     "base_uri": "https://localhost:8080/"
    },
    "id": "irq1PVrq6uhn",
    "outputId": "faa179bf-a6de-4cbf-833d-7f262a2ae3d6"
   },
   "outputs": [
    {
     "name": "stdout",
     "output_type": "stream",
     "text": [
      "Requirement already satisfied: dimod in /Users/macbookpro/Programming/Python/quantum_annealing/myvir/lib/python3.12/site-packages (0.12.14)\n",
      "Requirement already satisfied: dwave-neal in /Users/macbookpro/Programming/Python/quantum_annealing/myvir/lib/python3.12/site-packages (0.6.0)\n",
      "Requirement already satisfied: numpy<2.0.0,>=1.17.3 in /Users/macbookpro/Programming/Python/quantum_annealing/myvir/lib/python3.12/site-packages (from dimod) (1.26.4)\n",
      "Requirement already satisfied: dwave-samplers<2.0.0,>=1.0.0 in /Users/macbookpro/Programming/Python/quantum_annealing/myvir/lib/python3.12/site-packages (from dwave-neal) (1.2.0)\n",
      "Requirement already satisfied: networkx>=2.4.0 in /Users/macbookpro/Programming/Python/quantum_annealing/myvir/lib/python3.12/site-packages (from dwave-samplers<2.0.0,>=1.0.0->dwave-neal) (3.2.1)\n",
      "Note: you may need to restart the kernel to use updated packages.\n"
     ]
    }
   ],
   "source": [
    "pip install dimod dwave-neal"
   ]
  },
  {
   "cell_type": "code",
   "execution_count": 52,
   "metadata": {
    "id": "yRM4AhQQ6x9u"
   },
   "outputs": [],
   "source": [
    "from dimod import BinaryQuadraticModel as BQM"
   ]
  },
  {
   "cell_type": "code",
   "execution_count": 53,
   "metadata": {
    "id": "o7wuvrn_64Ui"
   },
   "outputs": [],
   "source": [
    "Q = np.array([\n",
    "     [ 1,  2, -1,  0],\n",
    "     [ 0, -1, -2, -1],\n",
    "     [ 0,  0, -2,  2],\n",
    "     [ 0,  0,  0,  0]\n",
    "  ])"
   ]
  },
  {
   "cell_type": "code",
   "execution_count": 54,
   "metadata": {
    "id": "_Ky9JH5f69Eg"
   },
   "outputs": [],
   "source": [
    "bqm = BQM.from_qubo(Q)"
   ]
  },
  {
   "cell_type": "code",
   "execution_count": 55,
   "metadata": {
    "colab": {
     "base_uri": "https://localhost:8080/"
    },
    "id": "tpCS00l76_-Y",
    "outputId": "57e47ed4-b7df-41f2-aff6-1654d6e1934a"
   },
   "outputs": [
    {
     "data": {
      "text/plain": [
       "BinaryQuadraticModel({0: 1.0, 1: -1.0, 2: -2.0, 3: 0.0}, {(1, 0): 2.0, (2, 0): -1.0, (2, 1): -2.0, (3, 1): -1.0, (3, 2): 2.0}, 0.0, 'BINARY')"
      ]
     },
     "execution_count": 55,
     "metadata": {},
     "output_type": "execute_result"
    }
   ],
   "source": [
    "bqm"
   ]
  },
  {
   "cell_type": "code",
   "execution_count": 56,
   "metadata": {
    "id": "z_eec50d7Ev2"
   },
   "outputs": [],
   "source": [
    "from neal import SimulatedAnnealingSampler"
   ]
  },
  {
   "cell_type": "code",
   "execution_count": 57,
   "metadata": {
    "id": "-XrOaSfw7I3o"
   },
   "outputs": [],
   "source": [
    "sa_sampler = SimulatedAnnealingSampler()"
   ]
  },
  {
   "cell_type": "code",
   "execution_count": 58,
   "metadata": {
    "id": "w0Z-3Nhj7KZY"
   },
   "outputs": [],
   "source": [
    "res = sa_sampler.sample(bqm)"
   ]
  },
  {
   "cell_type": "code",
   "execution_count": 59,
   "metadata": {
    "colab": {
     "base_uri": "https://localhost:8080/"
    },
    "id": "0X_8pfHC7L7w",
    "outputId": "36e7eb81-304f-4087-f834-8dd096a76f11"
   },
   "outputs": [
    {
     "data": {
      "text/plain": [
       "SampleSet(rec.array([([0, 1, 1, 0], -5., 1)],\n",
       "          dtype=[('sample', 'i1', (4,)), ('energy', '<f8'), ('num_occurrences', '<i8')]), Variables([0, 1, 2, 3]), {'beta_range': [0.13862943611198905, 11.982929094215963], 'beta_schedule_type': 'geometric', 'timing': {'preprocessing_ns': 3177385, 'sampling_ns': 436016, 'postprocessing_ns': 671214}}, 'BINARY')"
      ]
     },
     "execution_count": 59,
     "metadata": {},
     "output_type": "execute_result"
    }
   ],
   "source": [
    "res"
   ]
  },
  {
   "cell_type": "markdown",
   "metadata": {
    "id": "B40tNNEt9KHW"
   },
   "source": [
    "OpenJijではdict形式で問題を受け付けますので、注意してください。\n",
    "\n",
    "（先程の手順でnumpy array形式だったものをdict形式に直しておきましょう）\n",
    "\n",
    "結構いい答えが出てきたのではないでしょうか。これでとりあえずは十分ですよね。\n",
    "ただ問題のサイズが大きくなるにつれて結果が次第に悪化してくることがありますのでご注意を。\n",
    "それはパラメータの設定で改善する可能性があります。"
   ]
  },
  {
   "cell_type": "code",
   "execution_count": null,
   "metadata": {},
   "outputs": [],
   "source": []
  },
  {
   "cell_type": "code",
   "execution_count": null,
   "metadata": {},
   "outputs": [],
   "source": []
  }
 ],
 "metadata": {
  "colab": {
   "collapsed_sections": [
    "p8BlwZzKcjkn",
    "EacfNfq0zleF"
   ],
   "provenance": []
  },
  "kernelspec": {
   "display_name": "Python 3 (ipykernel)",
   "language": "python",
   "name": "python3"
  },
  "language_info": {
   "codemirror_mode": {
    "name": "ipython",
    "version": 3
   },
   "file_extension": ".py",
   "mimetype": "text/x-python",
   "name": "python",
   "nbconvert_exporter": "python",
   "pygments_lexer": "ipython3",
   "version": "3.12.2"
  }
 },
 "nbformat": 4,
 "nbformat_minor": 4
}
