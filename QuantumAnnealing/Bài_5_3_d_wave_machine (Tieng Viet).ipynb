{
  "nbformat": 4,
  "nbformat_minor": 0,
  "metadata": {
    "colab": {
      "provenance": [],
      "collapsed_sections": [
        "p8BlwZzKcjkn",
        "EacfNfq0zleF"
      ]
    },
    "kernelspec": {
      "name": "python3",
      "display_name": "Python 3"
    },
    "language_info": {
      "name": "python"
    }
  },
  "cells": [
    {
      "cell_type": "markdown",
      "metadata": {
        "id": "Sfaxj_ywcd7q"
      },
      "source": [
        "## **Bước 1: Cài đặt môi trường làm việc**\n",
        "\n",
        "---\n",
        "\n",
        "cài đặt công cụ hỗ trợ dwave-ocean-sdk"
      ]
    },
    {
      "cell_type": "code",
      "metadata": {
        "id": "UJSm0-dpcfkb",
        "colab": {
          "base_uri": "https://localhost:8080/"
        },
        "outputId": "3b9a5fba-6723-4d28-8e2c-0b4ad23bc378"
      },
      "source": [
        "pip install dwave-ocean-sdk"
      ],
      "execution_count": 1,
      "outputs": [
        {
          "output_type": "stream",
          "name": "stdout",
          "text": [
            "Collecting dwave-ocean-sdk\n",
            "  Downloading dwave_ocean_sdk-6.9.0-py3-none-any.whl (8.4 kB)\n",
            "Collecting dimod==0.12.14 (from dwave-ocean-sdk)\n",
            "  Downloading dimod-0.12.14-cp310-cp310-manylinux_2_17_x86_64.manylinux2014_x86_64.whl (18.7 MB)\n",
            "\u001b[2K     \u001b[90m━━━━━━━━━━━━━━━━━━━━━━━━━━━━━━━━━━━━━━━━\u001b[0m \u001b[32m18.7/18.7 MB\u001b[0m \u001b[31m20.0 MB/s\u001b[0m eta \u001b[36m0:00:00\u001b[0m\n",
            "\u001b[?25hCollecting dwave-cloud-client==0.11.3 (from dwave-ocean-sdk)\n",
            "  Downloading dwave_cloud_client-0.11.3-py3-none-any.whl (138 kB)\n",
            "\u001b[2K     \u001b[90m━━━━━━━━━━━━━━━━━━━━━━━━━━━━━━━━━━━━━━━━\u001b[0m \u001b[32m138.7/138.7 kB\u001b[0m \u001b[31m11.8 MB/s\u001b[0m eta \u001b[36m0:00:00\u001b[0m\n",
            "\u001b[?25hCollecting dwave-greedy==0.3.0 (from dwave-ocean-sdk)\n",
            "  Downloading dwave_greedy-0.3.0-py3-none-any.whl (10 kB)\n",
            "Collecting dwave-hybrid==0.6.11 (from dwave-ocean-sdk)\n",
            "  Downloading dwave_hybrid-0.6.11-py3-none-any.whl (77 kB)\n",
            "\u001b[2K     \u001b[90m━━━━━━━━━━━━━━━━━━━━━━━━━━━━━━━━━━━━━━━━\u001b[0m \u001b[32m77.1/77.1 kB\u001b[0m \u001b[31m5.0 MB/s\u001b[0m eta \u001b[36m0:00:00\u001b[0m\n",
            "\u001b[?25hCollecting dwave-inspector==0.4.4 (from dwave-ocean-sdk)\n",
            "  Downloading dwave_inspector-0.4.4-py3-none-any.whl (31 kB)\n",
            "Collecting dwave-neal==0.6.0 (from dwave-ocean-sdk)\n",
            "  Downloading dwave_neal-0.6.0-py3-none-any.whl (8.7 kB)\n",
            "Collecting dwave-networkx==0.8.14 (from dwave-ocean-sdk)\n",
            "  Downloading dwave_networkx-0.8.14-py3-none-any.whl (102 kB)\n",
            "\u001b[2K     \u001b[90m━━━━━━━━━━━━━━━━━━━━━━━━━━━━━━━━━━━━━━━━\u001b[0m \u001b[32m102.4/102.4 kB\u001b[0m \u001b[31m10.8 MB/s\u001b[0m eta \u001b[36m0:00:00\u001b[0m\n",
            "\u001b[?25hCollecting dwave-preprocessing==0.6.5 (from dwave-ocean-sdk)\n",
            "  Downloading dwave_preprocessing-0.6.5-cp310-cp310-manylinux_2_17_x86_64.manylinux2014_x86_64.whl (3.4 MB)\n",
            "\u001b[2K     \u001b[90m━━━━━━━━━━━━━━━━━━━━━━━━━━━━━━━━━━━━━━━━\u001b[0m \u001b[32m3.4/3.4 MB\u001b[0m \u001b[31m27.6 MB/s\u001b[0m eta \u001b[36m0:00:00\u001b[0m\n",
            "\u001b[?25hCollecting dwave-samplers==1.2.0 (from dwave-ocean-sdk)\n",
            "  Downloading dwave_samplers-1.2.0-cp310-cp310-manylinux_2_17_x86_64.manylinux2014_x86_64.whl (6.7 MB)\n",
            "\u001b[2K     \u001b[90m━━━━━━━━━━━━━━━━━━━━━━━━━━━━━━━━━━━━━━━━\u001b[0m \u001b[32m6.7/6.7 MB\u001b[0m \u001b[31m32.4 MB/s\u001b[0m eta \u001b[36m0:00:00\u001b[0m\n",
            "\u001b[?25hCollecting dwave-system==1.23.0 (from dwave-ocean-sdk)\n",
            "  Downloading dwave_system-1.23.0-py3-none-any.whl (103 kB)\n",
            "\u001b[2K     \u001b[90m━━━━━━━━━━━━━━━━━━━━━━━━━━━━━━━━━━━━━━━━\u001b[0m \u001b[32m103.2/103.2 kB\u001b[0m \u001b[31m7.7 MB/s\u001b[0m eta \u001b[36m0:00:00\u001b[0m\n",
            "\u001b[?25hCollecting dwave-tabu==0.5.0 (from dwave-ocean-sdk)\n",
            "  Downloading dwave_tabu-0.5.0-py3-none-any.whl (9.2 kB)\n",
            "Collecting dwavebinarycsp==0.3.0 (from dwave-ocean-sdk)\n",
            "  Downloading dwavebinarycsp-0.3.0-py3-none-any.whl (35 kB)\n",
            "Collecting minorminer==0.2.13 (from dwave-ocean-sdk)\n",
            "  Downloading minorminer-0.2.13-cp310-cp310-manylinux_2_17_x86_64.manylinux2014_x86_64.whl (10.3 MB)\n",
            "\u001b[2K     \u001b[90m━━━━━━━━━━━━━━━━━━━━━━━━━━━━━━━━━━━━━━━━\u001b[0m \u001b[32m10.3/10.3 MB\u001b[0m \u001b[31m28.8 MB/s\u001b[0m eta \u001b[36m0:00:00\u001b[0m\n",
            "\u001b[?25hCollecting penaltymodel==1.1.0 (from dwave-ocean-sdk)\n",
            "  Downloading penaltymodel-1.1.0-py3-none-any.whl (36 kB)\n",
            "Requirement already satisfied: numpy<2.0.0,>=1.17.3 in /usr/local/lib/python3.10/dist-packages (from dimod==0.12.14->dwave-ocean-sdk) (1.25.2)\n",
            "Requirement already satisfied: requests[socks]>=2.18 in /usr/local/lib/python3.10/dist-packages (from dwave-cloud-client==0.11.3->dwave-ocean-sdk) (2.31.0)\n",
            "Requirement already satisfied: pydantic<3,>=2 in /usr/local/lib/python3.10/dist-packages (from dwave-cloud-client==0.11.3->dwave-ocean-sdk) (2.6.4)\n",
            "Collecting homebase>=1.0 (from dwave-cloud-client==0.11.3->dwave-ocean-sdk)\n",
            "  Downloading homebase-1.0.1-py2.py3-none-any.whl (11 kB)\n",
            "Requirement already satisfied: click>=7.0 in /usr/local/lib/python3.10/dist-packages (from dwave-cloud-client==0.11.3->dwave-ocean-sdk) (8.1.7)\n",
            "Requirement already satisfied: python-dateutil>=2.7 in /usr/local/lib/python3.10/dist-packages (from dwave-cloud-client==0.11.3->dwave-ocean-sdk) (2.8.2)\n",
            "Collecting plucky>=0.4.3 (from dwave-cloud-client==0.11.3->dwave-ocean-sdk)\n",
            "  Downloading plucky-0.4.3-py2.py3-none-any.whl (10 kB)\n",
            "Collecting diskcache>=5.2.1 (from dwave-cloud-client==0.11.3->dwave-ocean-sdk)\n",
            "  Downloading diskcache-5.6.3-py3-none-any.whl (45 kB)\n",
            "\u001b[2K     \u001b[90m━━━━━━━━━━━━━━━━━━━━━━━━━━━━━━━━━━━━━━━━\u001b[0m \u001b[32m45.5/45.5 kB\u001b[0m \u001b[31m4.4 MB/s\u001b[0m eta \u001b[36m0:00:00\u001b[0m\n",
            "\u001b[?25hRequirement already satisfied: packaging>=19 in /usr/local/lib/python3.10/dist-packages (from dwave-cloud-client==0.11.3->dwave-ocean-sdk) (24.0)\n",
            "Requirement already satisfied: werkzeug>=2.2 in /usr/local/lib/python3.10/dist-packages (from dwave-cloud-client==0.11.3->dwave-ocean-sdk) (3.0.1)\n",
            "Requirement already satisfied: typing-extensions>=4.5.0 in /usr/local/lib/python3.10/dist-packages (from dwave-cloud-client==0.11.3->dwave-ocean-sdk) (4.10.0)\n",
            "Collecting authlib<2,>=1.2 (from dwave-cloud-client==0.11.3->dwave-ocean-sdk)\n",
            "  Downloading Authlib-1.3.0-py2.py3-none-any.whl (223 kB)\n",
            "\u001b[2K     \u001b[90m━━━━━━━━━━━━━━━━━━━━━━━━━━━━━━━━━━━━━━━━\u001b[0m \u001b[32m223.7/223.7 kB\u001b[0m \u001b[31m20.8 MB/s\u001b[0m eta \u001b[36m0:00:00\u001b[0m\n",
            "\u001b[?25hRequirement already satisfied: importlib-metadata>=5.0.0 in /usr/local/lib/python3.10/dist-packages (from dwave-cloud-client==0.11.3->dwave-ocean-sdk) (7.0.2)\n",
            "Requirement already satisfied: networkx in /usr/local/lib/python3.10/dist-packages (from dwave-hybrid==0.6.11->dwave-ocean-sdk) (3.2.1)\n",
            "Requirement already satisfied: Flask>=2.2 in /usr/local/lib/python3.10/dist-packages (from dwave-inspector==0.4.4->dwave-ocean-sdk) (2.2.5)\n",
            "Requirement already satisfied: scipy>=1.7.3 in /usr/local/lib/python3.10/dist-packages (from dwave-system==1.23.0->dwave-ocean-sdk) (1.11.4)\n",
            "Collecting fasteners>=0.15 (from minorminer==0.2.13->dwave-ocean-sdk)\n",
            "  Downloading fasteners-0.19-py3-none-any.whl (18 kB)\n",
            "Collecting rectangle-packer>=2.0.1 (from minorminer==0.2.13->dwave-ocean-sdk)\n",
            "  Downloading rectangle_packer-2.0.2-cp310-cp310-manylinux_2_5_x86_64.manylinux1_x86_64.manylinux_2_17_x86_64.manylinux2014_x86_64.whl (305 kB)\n",
            "\u001b[2K     \u001b[90m━━━━━━━━━━━━━━━━━━━━━━━━━━━━━━━━━━━━━━━━\u001b[0m \u001b[32m305.6/305.6 kB\u001b[0m \u001b[31m31.1 MB/s\u001b[0m eta \u001b[36m0:00:00\u001b[0m\n",
            "\u001b[?25hRequirement already satisfied: cryptography in /usr/local/lib/python3.10/dist-packages (from authlib<2,>=1.2->dwave-cloud-client==0.11.3->dwave-ocean-sdk) (42.0.5)\n",
            "Requirement already satisfied: Jinja2>=3.0 in /usr/local/lib/python3.10/dist-packages (from Flask>=2.2->dwave-inspector==0.4.4->dwave-ocean-sdk) (3.1.3)\n",
            "Requirement already satisfied: itsdangerous>=2.0 in /usr/local/lib/python3.10/dist-packages (from Flask>=2.2->dwave-inspector==0.4.4->dwave-ocean-sdk) (2.1.2)\n",
            "Requirement already satisfied: zipp>=0.5 in /usr/local/lib/python3.10/dist-packages (from importlib-metadata>=5.0.0->dwave-cloud-client==0.11.3->dwave-ocean-sdk) (3.18.1)\n",
            "Requirement already satisfied: annotated-types>=0.4.0 in /usr/local/lib/python3.10/dist-packages (from pydantic<3,>=2->dwave-cloud-client==0.11.3->dwave-ocean-sdk) (0.6.0)\n",
            "Requirement already satisfied: pydantic-core==2.16.3 in /usr/local/lib/python3.10/dist-packages (from pydantic<3,>=2->dwave-cloud-client==0.11.3->dwave-ocean-sdk) (2.16.3)\n",
            "Requirement already satisfied: six>=1.5 in /usr/local/lib/python3.10/dist-packages (from python-dateutil>=2.7->dwave-cloud-client==0.11.3->dwave-ocean-sdk) (1.16.0)\n",
            "Requirement already satisfied: charset-normalizer<4,>=2 in /usr/local/lib/python3.10/dist-packages (from requests[socks]>=2.18->dwave-cloud-client==0.11.3->dwave-ocean-sdk) (3.3.2)\n",
            "Requirement already satisfied: idna<4,>=2.5 in /usr/local/lib/python3.10/dist-packages (from requests[socks]>=2.18->dwave-cloud-client==0.11.3->dwave-ocean-sdk) (3.6)\n",
            "Requirement already satisfied: urllib3<3,>=1.21.1 in /usr/local/lib/python3.10/dist-packages (from requests[socks]>=2.18->dwave-cloud-client==0.11.3->dwave-ocean-sdk) (2.0.7)\n",
            "Requirement already satisfied: certifi>=2017.4.17 in /usr/local/lib/python3.10/dist-packages (from requests[socks]>=2.18->dwave-cloud-client==0.11.3->dwave-ocean-sdk) (2024.2.2)\n",
            "Requirement already satisfied: PySocks!=1.5.7,>=1.5.6 in /usr/local/lib/python3.10/dist-packages (from requests[socks]>=2.18->dwave-cloud-client==0.11.3->dwave-ocean-sdk) (1.7.1)\n",
            "Requirement already satisfied: MarkupSafe>=2.1.1 in /usr/local/lib/python3.10/dist-packages (from werkzeug>=2.2->dwave-cloud-client==0.11.3->dwave-ocean-sdk) (2.1.5)\n",
            "Requirement already satisfied: cffi>=1.12 in /usr/local/lib/python3.10/dist-packages (from cryptography->authlib<2,>=1.2->dwave-cloud-client==0.11.3->dwave-ocean-sdk) (1.16.0)\n",
            "Requirement already satisfied: pycparser in /usr/local/lib/python3.10/dist-packages (from cffi>=1.12->cryptography->authlib<2,>=1.2->dwave-cloud-client==0.11.3->dwave-ocean-sdk) (2.21)\n",
            "Installing collected packages: rectangle-packer, plucky, homebase, fasteners, diskcache, dimod, penaltymodel, dwave-samplers, dwave-preprocessing, dwave-networkx, minorminer, dwavebinarycsp, dwave-tabu, dwave-neal, dwave-greedy, authlib, dwave-cloud-client, dwave-system, dwave-inspector, dwave-hybrid, dwave-ocean-sdk\n",
            "Successfully installed authlib-1.3.0 dimod-0.12.14 diskcache-5.6.3 dwave-cloud-client-0.11.3 dwave-greedy-0.3.0 dwave-hybrid-0.6.11 dwave-inspector-0.4.4 dwave-neal-0.6.0 dwave-networkx-0.8.14 dwave-ocean-sdk-6.9.0 dwave-preprocessing-0.6.5 dwave-samplers-1.2.0 dwave-system-1.23.0 dwave-tabu-0.5.0 dwavebinarycsp-0.3.0 fasteners-0.19 homebase-1.0.1 minorminer-0.2.13 penaltymodel-1.1.0 plucky-0.4.3 rectangle-packer-2.0.2\n"
          ]
        }
      ]
    },
    {
      "cell_type": "markdown",
      "metadata": {
        "id": "Zw5Nu95vcwJO"
      },
      "source": [
        "Sau khi bấm nút RESTART RUNTIME thì chương trình cài đặt môi trường hoạt động các dòng máy tính lượng tử của D-Wave Systems sẽ hoàn tất và chúng ta có thể bắt đầu sử dụng được."
      ]
    },
    {
      "cell_type": "markdown",
      "metadata": {
        "id": "uFeftXGSdMs1"
      },
      "source": [
        "## **Bước 2: bắt đầu sử dụng**\n",
        "\n",
        "Hãy cùng làm quen với công thức biểu thị hàm năng lượng cho các bài toán tối ưu hóa tổ hợp sau:\n",
        "\\begin{equation}\n",
        "E({\\bf x})  = \\sum_{i=1}^{N} \\sum_{j=1}^N Q_{ij} x_i x_j\n",
        "\\end{equation}\n",
        "Đây là công thức phổ biến **Bài toán hàm bậc 2 không có điều kiện ràng buộc** trong tiếng anh có tên gọi là \"Quadratic unconstrained binary optimization（QUBO）\"."
      ]
    },
    {
      "cell_type": "markdown",
      "metadata": {
        "id": "FXyD2-_9dMvH"
      },
      "source": [
        "Trong đó: $x_i$là biến số nhận 1 trong 2 giá trị là $0$か$1$.\n",
        "\n",
        "$Q_{ij}$ là mà trận có tên QUBO biểu thị các giá trị đầu vào cho bài toán tối ưu, và cũng là đặc trưng cho bài toán tối ưu."
      ]
    },
    {
      "cell_type": "markdown",
      "metadata": {
        "id": "p8BlwZzKcjkn"
      },
      "source": [
        "### **Nào hãy bắt đầu sử dụng Quantum Annealing Machine！**\n",
        "\n",
        "Đầu tiên hãy truy cập vào website của công ty D-Wave Systems và tạo tài khoản người dùng miễn phí."
      ]
    },
    {
      "cell_type": "markdown",
      "metadata": {
        "id": "EacfNfq0zleF"
      },
      "source": [
        "### **Tạo tài khoản miễn phí**\n",
        "https://cloud.dwavesys.com/leap/\n",
        "Truy cập vào đường link trên, tạo tài khoản và Copy API token để sử dụng trong quá trình lập trình thực hành."
      ]
    },
    {
      "cell_type": "markdown",
      "metadata": {
        "id": "-CHtp856zlgD"
      },
      "source": [
        "### **Bắt đầu thực hành với bài toán đơn giản！**\n",
        "\n",
        "Chỉ cần tạo một bài toán với ma trận QUBO đầu vào như sau:"
      ]
    },
    {
      "cell_type": "code",
      "metadata": {
        "id": "XZEDrVPOz_F2"
      },
      "source": [
        "import numpy as np\n",
        "\n",
        "N = 10\n",
        "QUBO = np.random.randn(N**2).reshape(N,N)"
      ],
      "execution_count": 2,
      "outputs": []
    },
    {
      "cell_type": "markdown",
      "metadata": {
        "id": "mfy9gAZL0GIy"
      },
      "source": [
        "để cho đơn giản hãy giả sử đặt bài toán có kích thước ma trận QUBO là10×10.\n",
        "trong đó np.random.randn()biểu thị hàm số tạo ra các số ngẫu nhiên có giá trị trung bình là 0 và giá trị phân bố là 1 theo quy luật phân bố ngẫu nhiên Gause. Hàm số đó sau đó được tạo ra ma trận vuông có kích thước N**2=100, rồi viết lại với reshape (N,N) thành ma trận có kích thước 10×10 như sau:"
      ]
    },
    {
      "cell_type": "markdown",
      "metadata": {
        "id": "V44e1gKFyD7Q"
      },
      "source": [
        "Đến đây ta đã tạo ra được ma trận QUBO cho bài toán, hãy in ma trận QUBO ra để kiểm tra như sau:"
      ]
    },
    {
      "cell_type": "code",
      "metadata": {
        "colab": {
          "base_uri": "https://localhost:8080/"
        },
        "id": "b3Kmb3PNyYRd",
        "outputId": "ade8ffb4-c523-4b5f-c783-a8d723d368d8"
      },
      "source": [
        "print(QUBO)"
      ],
      "execution_count": 3,
      "outputs": [
        {
          "output_type": "stream",
          "name": "stdout",
          "text": [
            "[[-0.08742564 -0.0122671   0.16050215 -0.53816541  0.72942184 -0.6452815\n",
            "  -0.72958791  0.38116636 -0.54630452  0.78726658]\n",
            " [ 1.22167689  1.06433014 -1.18886568  1.62006678  1.52390859 -1.1583528\n",
            "  -0.01193344 -1.63568025  0.03477208  0.99782612]\n",
            " [-0.34203875  0.00452563 -1.55655281 -1.71742561  1.00051922 -0.64347119\n",
            "   0.10585492  0.06600626  0.8813199   0.64657743]\n",
            " [ 1.88228607 -1.16209311  2.61980688 -0.32550393 -0.06837281 -1.21480249\n",
            "   0.60327948 -0.73128818 -1.86750117  0.53072567]\n",
            " [-1.55525276  0.02358725 -0.55620544  1.30507855  1.15852999  0.0046742\n",
            "  -1.53240019  0.28331662  0.57881252 -1.18454574]\n",
            " [-0.11134384  1.98303248  0.64534945 -0.33382621 -0.64161995 -0.47992557\n",
            "  -0.05774651 -1.00031233  1.00139219  0.89163993]\n",
            " [ 0.79817022  1.94041586  0.04491366 -0.81031169 -0.56723491  0.18154463\n",
            "   0.35496884 -0.14414628 -0.6078836   0.40423038]\n",
            " [-0.18737539 -0.74915671 -2.8194343  -0.23284331 -0.07895097 -0.41730853\n",
            "   0.4360482   0.98612301 -0.12177961 -1.16086629]\n",
            " [-1.64295724 -0.13614764  0.44672733 -0.09248341 -1.49539489 -0.28186108\n",
            "   2.22532801  0.06464697 -0.403112   -1.76220299]\n",
            " [-0.87906135  0.727053    0.98152937  0.16856303 -0.29665627  1.10745267\n",
            "   0.71401828 -0.39136114 -0.52977529  0.03226855]]\n"
          ]
        }
      ]
    },
    {
      "cell_type": "markdown",
      "metadata": {
        "id": "jzt4b3xBybzd"
      },
      "source": [
        "$Q_{ij}$ có giá trị dương là 1, thì khi lắp vào hàm số $Q_{ij}x_ix_j$ nhỏ nhất khi $x_ix_j = 0$, tức là có các khả năng như sau:"
      ]
    },
    {
      "cell_type": "markdown",
      "metadata": {
        "id": "mWn1i2M20lnD"
      },
      "source": [
        "- $x_i=0$, $x_j=1$\n",
        "- $x_i=1$, $x_j=0$\n",
        "- $x_i=0$, $x_j=0$"
      ]
    },
    {
      "cell_type": "markdown",
      "metadata": {
        "id": "gu_QVIEs1HJK"
      },
      "source": [
        "Ngược lại $Q_{ij}$ có giá trị âm thì giá trị $x_ix_j=1$ cần có giá trị:\n",
        "- $x_i=1$,$x_j=1$\n",
        "\n",
        "Nào hãy cùng xem D-Wave Systems sẽ cho ra kết quả thế nào!"
      ]
    },
    {
      "cell_type": "markdown",
      "metadata": {
        "id": "F03UTTZ3_9YU"
      },
      "source": [
        "Trước hết cần khai báo thông tin người dùng như sau:"
      ]
    },
    {
      "cell_type": "code",
      "metadata": {
        "id": "D5juECTB1g98"
      },
      "source": [
        "token = 'DEV-e5bf1d97c4cf19c56010372146f8cb7a9b720ac8'  # 個人のAPI tokenを使用\n",
        "endpoint = 'https://cloud.dwavesys.com/sapi/'"
      ],
      "execution_count": 4,
      "outputs": []
    },
    {
      "cell_type": "markdown",
      "metadata": {
        "id": "YQ4eXAXN2T1K"
      },
      "source": [
        "Tiếp theo hãy khai báo tên loại Máy tính lượng tử loại Annealing mà bạn muốn sử dụng, lưu ý hãy kiểm tra chính xác tên các dòng máy mà D-Wave đang cung cấp trên website."
      ]
    },
    {
      "cell_type": "code",
      "metadata": {
        "id": "PquuZ9G2CBMP"
      },
      "source": [
        "from dwave.system import DWaveSampler, EmbeddingComposite\n",
        "\n",
        "dw_sampler = DWaveSampler(solver='Advantage_system4.1', token=token, endpoint=endpoint)"
      ],
      "execution_count": 5,
      "outputs": []
    },
    {
      "cell_type": "markdown",
      "metadata": {
        "id": "BOEtLqhnCGsv"
      },
      "source": [
        "from dwave.system sẽ được gọi từ thư viện tổng hợp Ocean SDKのdwave.system.\n",
        "\n",
        "Hàm số **import DWaveSampler** và hàm số**import EmbeddingComposite** được gọi ra.\n",
        "Tiếp theo là chỉ định tên của dòng Máy tính lượng tử ví dụ D-Wave Advantage:\n",
        "**solver = 'Advantage_system4.1'** là dòng được sử dụng lần này."
      ]
    },
    {
      "cell_type": "code",
      "metadata": {
        "id": "xlidH5HhHEF9"
      },
      "source": [
        "sampler = EmbeddingComposite(dw_sampler)"
      ],
      "execution_count": 6,
      "outputs": []
    },
    {
      "cell_type": "markdown",
      "metadata": {
        "id": "jQBD8SUmCGvM"
      },
      "source": [
        "Trên đây là lệnh dùng Embedding để cài đặt bài toán tự động theo tiêu chuẩn của D-wave, khi đó phương pháp cài đặt sẽ tự động cài đặt các ma trận QUBO lên các chíp lượng tử để biểu thị các biến số$x_i$ và các hệ số $Q_{ij}$."
      ]
    },
    {
      "cell_type": "code",
      "metadata": {
        "id": "1PbAeKHRCGBj"
      },
      "source": [
        "sampleset = sampler.sample_qubo(QUBO, num_reads=10)"
      ],
      "execution_count": 7,
      "outputs": []
    },
    {
      "cell_type": "markdown",
      "metadata": {
        "id": "R3cmzq7GK1RX"
      },
      "source": [
        "sampler.sample_qubo là hàm số sử dụng để giải bài toán đã được định nghĩa thông qua ma trận QUBO.\n",
        "num_reads là số lần đo đạc kết quả của bài toán.\n",
        "Trong hàm số sampleset có biến số num_reads biểu thị số lần đo đạc."
      ]
    },
    {
      "cell_type": "code",
      "metadata": {
        "colab": {
          "base_uri": "https://localhost:8080/"
        },
        "id": "MXHWX34fM8Xc",
        "outputId": "cbb5fac8-eea5-4f88-ada8-935e97635797"
      },
      "source": [
        "print(sampleset.record[0])"
      ],
      "execution_count": 8,
      "outputs": [
        {
          "output_type": "stream",
          "name": "stdout",
          "text": [
            "([1, 0, 1, 1, 1, 1, 0, 1, 1, 1], -9.59888716, 4, 0.)\n"
          ]
        }
      ]
    },
    {
      "cell_type": "markdown",
      "metadata": {
        "id": "LbtbInMfNh4i"
      },
      "source": [
        "Để in kết quả dòng đầu tiên $x_1$ ra dùng lệnh sampleset.record[0], hoặc in ra kết quả vị trí $x_ix_i$ trong ma trận thì có thể dùng sampleset.record[0][0].\n",
        "Hoặc muốn xem chi tiết có thể dùng các lệnh sampleset.record[0][1]\n",
        "hoặc xem chi tiết số lần xuất hiện dùng lệnh sampleset.record[0][2]. Nếu dùng lệnh sampleset sẽ in tất cả kết quả ra."
      ]
    },
    {
      "cell_type": "code",
      "metadata": {
        "colab": {
          "base_uri": "https://localhost:8080/"
        },
        "id": "DQPBPoXNNSKd",
        "outputId": "b7a3c315-946b-40df-928d-4dac014093d1"
      },
      "source": [
        "sampleset"
      ],
      "execution_count": 9,
      "outputs": [
        {
          "output_type": "execute_result",
          "data": {
            "text/plain": [
              "SampleSet(rec.array([([1, 0, 1, 1, 1, 1, 0, 1, 1, 1], -9.59888716, 4, 0.),\n",
              "           ([1, 0, 0, 1, 1, 1, 0, 1, 1, 1], -9.41209705, 2, 0.),\n",
              "           ([1, 1, 1, 1, 0, 1, 0, 1, 1, 0], -9.31915672, 4, 0.)],\n",
              "          dtype=[('sample', 'i1', (10,)), ('energy', '<f8'), ('num_occurrences', '<i8'), ('chain_break_fraction', '<f8')]), Variables([0, 1, 2, 3, 4, 5, 6, 7, 8, 9]), {'timing': {'qpu_sampling_time': 823.8, 'qpu_anneal_time_per_sample': 20.0, 'qpu_readout_time_per_sample': 41.8, 'qpu_access_time': 16584.97, 'qpu_access_overhead_time': 735.03, 'qpu_programming_time': 15761.17, 'qpu_delay_time_per_sample': 20.58, 'total_post_processing_time': 39.0, 'post_processing_overhead_time': 39.0}, 'problem_id': '0b9b023a-d5e5-44af-a66e-4163cd98610c'}, 'BINARY')"
            ]
          },
          "metadata": {},
          "execution_count": 9
        }
      ]
    },
    {
      "cell_type": "markdown",
      "metadata": {
        "id": "TWAnuQk_Kxfh"
      },
      "source": [
        "Đến đây hi vọng bạn đã trải nghiệm được cách sử dụng máy tính lượng tử Annealing đơn giản như thế nào. Hãy trải nghiệm những tính năng khác dưới đây."
      ]
    },
    {
      "cell_type": "markdown",
      "metadata": {
        "id": "dWzmOoJPzlkJ"
      },
      "source": [
        "### **Hãy trải nghiệm việc giải một bài toán thực tế có quy mô lớn hơn**"
      ]
    },
    {
      "cell_type": "markdown",
      "metadata": {
        "id": "gzgI7qDUzll-"
      },
      "source": [
        "Hãy trải nghiệm với một ví dụ cụ thể hơn với bài toán được mô tả như sau:"
      ]
    },
    {
      "cell_type": "markdown",
      "metadata": {
        "id": "gu_yM2KXzloD"
      },
      "source": [
        "**Bài toán: Có nhiều vật dụng có các khối lượng khác nhau, có 2 người được giao nhiệm vụ phải khuân và di chuyển các vật dụng đó đi, chúng ta mong muốn là chia các vật dụng đó thành 2 nhóm có khối lượng tương đương nhau**"
      ]
    },
    {
      "cell_type": "markdown",
      "metadata": {
        "id": "SwFe5FJEzlsX"
      },
      "source": [
        "Giả sử trọng lượng của một vật i sẽ có trọng lượng là $w_i$.\n",
        "Vậy nếu có $N$ vật thì tổng số trọng lượng là $W=\\sum_{i=1}^N w_i$"
      ]
    },
    {
      "cell_type": "markdown",
      "metadata": {
        "id": "4vbhaCW3zlup"
      },
      "source": [
        "Có 2 người thực hiện khuân vác di chuyển là bạn A và bạn B, khi đó bạn A giả sư sẽ di chuyển vật $x_i=1$, còn nếu không di chuyển thì $x_i=0$. Như vậy bạn A cần di chuyển các vật có tổng khối lượng là:\n",
        "\\begin{equation}\n",
        "W_A = \\sum_{i=1}^N w_i x_i\n",
        "\\end{equation}\n",
        "Ngược lại bạn B cần di chuyển các vật có tổng khối lượng là:\n",
        "\\begin{equation}\n",
        "W_B = W - W_A\n",
        "\\end{equation}\n",
        "となります。\n",
        "Để cho khối lượng 2 nhóm đó tương đương nhau thì hiệu số như sau xấp xỉ bằng 0:\n",
        "\\begin{equation}\n",
        "W_A - W_B\n",
        "\\end{equation}\n",
        "Hoặc kết quả đó đạt giá trị nhỏ nhất. Ta có thể hiểu ở đâu có thể khối lượng mà bạn A sẽ lớn hơn hoặc nhỏ hơn khối lượng mà bạn B sẽ di chuyển. để biểu thị điều đó ta có thể quy về công thức như sau:\n",
        "\\begin{equation}\n",
        "E({\\bf x}) = \\left( W_A - W_B \\right)^2 = \\left( 2W_A - W \\right)^2\n",
        "\\end{equation}\n",
        "Ở đâu nếu ta triển khai thành công thức QUBO sẽ thu được hàm số năng lượng như sau:\n",
        "\\begin{equation}\n",
        "E({\\bf x}) = \\left( 2\\sum_{i=1}^N w_i x_i - W \\right)^2\n",
        "\\end{equation}\n",
        "\n"
      ]
    },
    {
      "cell_type": "markdown",
      "metadata": {
        "id": "XS7EVj71zlwx"
      },
      "source": [
        "Để cho dễ dàng hơn có thể chuyển đổi như sau:"
      ]
    },
    {
      "cell_type": "markdown",
      "metadata": {
        "id": "OXjkUAmOXRcx"
      },
      "source": [
        "\\begin{equation}\n",
        "E({\\bf x}) = \\left( 2\\sum_{i=1}^N w_i x_i - W \\right)\\left( 2\\sum_{j=1}^N w_j x_j - W \\right)\n",
        "\\end{equation}"
      ]
    },
    {
      "cell_type": "markdown",
      "metadata": {
        "id": "NZifi9yCXWyS"
      },
      "source": [
        "Sau đó thực hiện phép toán nhân các thông số lại với nhau:"
      ]
    },
    {
      "cell_type": "markdown",
      "metadata": {
        "id": "i3VkKv_WXbow"
      },
      "source": [
        "\\begin{equation}\n",
        "E({\\bf x}) = 4\\sum_{i=1}^N\\sum_{j=1}^N w_iw_j x_ix_j - 2W\\sum_{i=1}^N w_i x_i  - 2W\\sum_{j=1}^N w_j x_j + W^2\n",
        "\\end{equation}"
      ]
    },
    {
      "cell_type": "markdown",
      "metadata": {
        "id": "J6GWTPrzY9vy"
      },
      "source": [
        "Kết quả cuối cùng nhân được là:\n",
        "\\begin{equation}\n",
        "E({\\bf x}) = 4\\sum_{i=1}^N\\sum_{j=1}^N w_iw_j x_ix_j - 4W\\sum_{i=1}^N w_i x_i + W^2\n",
        "\\end{equation}\n"
      ]
    },
    {
      "cell_type": "markdown",
      "metadata": {
        "id": "6rFLqcTlYtO6"
      },
      "source": [
        "Như vậy đã xuất hiện $x_ix_j$ có hệ số là$4w_iw_j$. Hệ số của nó cũng chính là ma trận QUBO mà chúng ta cần xây dựng. Tiếp theo $x_i$ sẽ nhận 1 trong 2 giá trị là $0$ hoặc $1$. Mục thứ 2 có biến số $x_i$ có thể biến đổi tương ứng với $x_ix_i$., và có thể biểu thị như sau $-4W\\sum_{i=1}^N w_i x_ix_i$.\n",
        "Như vậy  ma trận QUBO đã được biểu diễn xong. Hãy bắt đầu đi lập trình thực tế!"
      ]
    },
    {
      "cell_type": "code",
      "metadata": {
        "id": "IkimRioVZ25x"
      },
      "source": [
        "N = 10\n",
        "w = np.random.rand(N)"
      ],
      "execution_count": 10,
      "outputs": []
    },
    {
      "cell_type": "markdown",
      "metadata": {
        "id": "BtaN3gwwZ6_o"
      },
      "source": [
        "Đầu tiên hãy giả sử bài toán có kích thước $N=10$ vật và có trọng lượng được tính ngẫu nhiên theo Hàm số np.random.rand() và sẽ nhận 1 trong khoảng giá trị $0$ đến $1$.\n",
        "\n",
        "Tiếp theo hãy tính ma trận QUBO từ các hệ số đó.\n",
        "Trước hết hãy tính tổng khối lượng như sau:"
      ]
    },
    {
      "cell_type": "code",
      "metadata": {
        "id": "bBEtvgMcXQxB"
      },
      "source": [
        "W = np.sum(w)"
      ],
      "execution_count": 11,
      "outputs": []
    },
    {
      "cell_type": "markdown",
      "metadata": {
        "id": "sf6-PIHAaUbo"
      },
      "source": [
        "numpyのsum() là hàm số tính tổng số khối lượng."
      ]
    },
    {
      "cell_type": "code",
      "metadata": {
        "id": "B6UbhVJ_abdQ"
      },
      "source": [
        "Q = np.zeros(N**2).reshape(N,N)"
      ],
      "execution_count": 12,
      "outputs": []
    },
    {
      "cell_type": "markdown",
      "metadata": {
        "id": "3lLNGyMKzlzE"
      },
      "source": [
        "Để tạo ra ma trận QUBO, đầu tiên sẽ tạo ra một ma trận rỗng bằng lệnh np.zeros() với các giá trị bên trong là 0, sau đó dùng hàm reshape(N,N) để tạo mới ma trận có kích thước N×N."
      ]
    },
    {
      "cell_type": "code",
      "metadata": {
        "id": "tRE0jFCCas-4"
      },
      "source": [
        "for i in range(N):\n",
        "  for j in range(N):\n",
        "    Q[i][j] = 4*w[i]*w[j]"
      ],
      "execution_count": 13,
      "outputs": []
    },
    {
      "cell_type": "markdown",
      "metadata": {
        "id": "I3i4SSXWzl1N"
      },
      "source": [
        "Tiếp theo hãy tính các thành phần của bộ phận số 2 trong ma trận QUBO như sau."
      ]
    },
    {
      "cell_type": "code",
      "metadata": {
        "id": "TraXwF00bOdq"
      },
      "source": [
        "for i in range(N):\n",
        "  Q[i][i] = Q[i][i] - 4*W*w[i]"
      ],
      "execution_count": 14,
      "outputs": []
    },
    {
      "cell_type": "markdown",
      "metadata": {
        "id": "iBsMrsaNbWGA"
      },
      "source": [
        "đến đây đã hoàn tất tạo ra ma trận QUBO. Tiếp theo hãy gửi ma trận QUBO tới các solver như sau:"
      ]
    },
    {
      "cell_type": "code",
      "metadata": {
        "id": "6le7e1vccnpU"
      },
      "source": [
        "sampleset = sampler.sample_qubo(Q, num_reads=100)"
      ],
      "execution_count": 15,
      "outputs": []
    },
    {
      "cell_type": "code",
      "metadata": {
        "colab": {
          "base_uri": "https://localhost:8080/"
        },
        "id": "Ox0otlu5eFYB",
        "outputId": "192de5c6-9647-4946-c048-5335195d8977"
      },
      "source": [
        "print(sampleset.record)"
      ],
      "execution_count": 16,
      "outputs": [
        {
          "output_type": "stream",
          "name": "stdout",
          "text": [
            "[([1, 0, 0, 0, 0, 1, 1, 0, 0, 1], -14.988001  , 2, 0.)\n",
            " ([0, 1, 1, 1, 1, 0, 0, 1, 1, 0], -14.988001  , 1, 0.)\n",
            " ([0, 1, 1, 1, 1, 0, 0, 0, 1, 1], -14.98799239, 1, 0.)\n",
            " ([1, 0, 0, 0, 0, 1, 1, 1, 0, 0], -14.98799239, 2, 0.)\n",
            " ([0, 1, 1, 1, 0, 1, 0, 0, 0, 0], -14.98798982, 1, 0.)\n",
            " ([0, 0, 1, 1, 1, 1, 1, 1, 0, 0], -14.98781682, 4, 0.)\n",
            " ([0, 0, 1, 1, 1, 1, 1, 0, 0, 1], -14.98780287, 2, 0.)\n",
            " ([1, 1, 0, 0, 1, 0, 0, 1, 1, 0], -14.98717951, 1, 0.)\n",
            " ([1, 1, 0, 0, 1, 0, 0, 0, 1, 1], -14.9871548 , 1, 0.)\n",
            " ([0, 0, 0, 1, 1, 1, 1, 0, 1, 1], -14.9868152 , 1, 0.)\n",
            " ([0, 1, 1, 1, 1, 1, 0, 0, 0, 0], -14.98673736, 1, 0.)\n",
            " ([0, 1, 0, 1, 0, 0, 0, 1, 0, 1], -14.98673614, 1, 0.)\n",
            " ([1, 0, 0, 0, 1, 1, 1, 1, 0, 0], -14.98672866, 1, 0.)\n",
            " ([1, 0, 1, 1, 1, 1, 0, 0, 0, 0], -14.98649063, 2, 0.)\n",
            " ([0, 1, 0, 1, 0, 0, 1, 0, 0, 0], -14.98507382, 1, 0.)\n",
            " ([1, 1, 0, 0, 1, 1, 0, 0, 0, 0], -14.98485194, 1, 0.)\n",
            " ([1, 0, 1, 1, 1, 0, 0, 0, 1, 1], -14.98369952, 1, 0.)\n",
            " ([1, 0, 1, 1, 1, 0, 0, 1, 1, 0], -14.98364596, 1, 0.)\n",
            " ([0, 1, 0, 0, 0, 1, 1, 0, 0, 1], -14.98364596, 3, 0.)\n",
            " ([0, 1, 1, 0, 1, 0, 1, 1, 0, 1], -14.98322492, 2, 0.)\n",
            " ([0, 1, 0, 0, 1, 1, 1, 0, 0, 1], -14.97490739, 1, 0.)\n",
            " ([1, 0, 1, 1, 0, 0, 0, 1, 1, 0], -14.97490739, 2, 0.)\n",
            " ([1, 0, 1, 1, 0, 0, 0, 1, 0, 1], -14.97303308, 1, 0.)\n",
            " ([1, 0, 0, 1, 0, 0, 0, 1, 1, 1], -14.96816447, 1, 0.)\n",
            " ([0, 1, 1, 0, 1, 1, 1, 0, 0, 0], -14.96816447, 1, 0.)\n",
            " ([1, 0, 1, 1, 1, 0, 0, 1, 0, 1], -14.95891181, 2, 0.)\n",
            " ([1, 0, 0, 1, 1, 0, 0, 1, 1, 1], -14.95226984, 1, 0.)\n",
            " ([0, 1, 0, 0, 1, 1, 0, 1, 1, 1], -14.94189122, 1, 0.)\n",
            " ([0, 1, 1, 0, 0, 0, 1, 1, 1, 0], -14.94150525, 1, 0.)\n",
            " ([0, 1, 0, 1, 0, 0, 0, 1, 1, 1], -14.94034456, 1, 0.)\n",
            " ([0, 0, 0, 1, 1, 1, 1, 1, 0, 0], -14.93969379, 1, 0.)\n",
            " ([1, 1, 0, 0, 1, 0, 0, 1, 0, 0], -14.93743499, 1, 0.)\n",
            " ([0, 0, 0, 1, 0, 1, 1, 1, 0, 1], -14.93738959, 1, 0.)\n",
            " ([1, 0, 1, 0, 0, 1, 1, 1, 0, 0], -14.93690117, 1, 0.)\n",
            " ([0, 1, 1, 0, 1, 1, 0, 1, 0, 1], -14.93362248, 1, 0.)\n",
            " ([0, 1, 1, 1, 1, 0, 0, 1, 0, 0], -14.92801847, 3, 0.)\n",
            " ([1, 1, 1, 0, 0, 1, 0, 0, 0, 0], -14.92749502, 1, 0.)\n",
            " ([0, 1, 1, 1, 1, 0, 0, 1, 0, 1], -14.92650737, 1, 0.)\n",
            " ([1, 1, 0, 0, 0, 1, 0, 0, 1, 0], -14.91807508, 1, 0.)\n",
            " ([1, 0, 1, 0, 0, 1, 1, 0, 0, 0], -14.91701375, 1, 0.)\n",
            " ([0, 0, 0, 1, 1, 1, 1, 1, 0, 1], -14.91341841, 1, 0.)\n",
            " ([1, 0, 1, 0, 1, 1, 1, 0, 0, 1], -14.91260519, 1, 0.)\n",
            " ([1, 0, 0, 1, 1, 1, 0, 0, 0, 0], -14.91112977, 1, 0.)\n",
            " ([0, 1, 1, 0, 0, 1, 0, 1, 0, 1], -14.90886139, 2, 0.)\n",
            " ([0, 1, 0, 1, 1, 1, 0, 1, 0, 0], -14.90237642, 1, 0.)\n",
            " ([0, 1, 1, 1, 0, 0, 0, 0, 0, 1], -14.9023668 , 2, 0.)\n",
            " ([1, 0, 0, 0, 1, 1, 1, 0, 1, 1], -14.90213122, 1, 0.)\n",
            " ([1, 0, 0, 1, 1, 0, 0, 0, 1, 1], -14.89592656, 1, 0.)\n",
            " ([1, 0, 1, 1, 1, 0, 0, 1, 0, 0], -14.88413005, 1, 0.)\n",
            " ([0, 1, 1, 0, 1, 0, 1, 1, 1, 1], -14.88213458, 1, 0.)\n",
            " ([0, 1, 1, 1, 1, 0, 1, 0, 0, 0], -14.87224145, 2, 0.)\n",
            " ([0, 1, 1, 0, 1, 1, 1, 0, 0, 1], -14.86413224, 1, 0.)\n",
            " ([1, 0, 1, 0, 0, 1, 0, 1, 0, 1], -14.8593477 , 1, 0.)\n",
            " ([0, 0, 1, 1, 0, 1, 0, 1, 1, 1], -14.858208  , 1, 0.)\n",
            " ([1, 1, 0, 0, 1, 0, 1, 0, 0, 0], -14.858208  , 1, 0.)\n",
            " ([0, 1, 0, 0, 1, 0, 1, 0, 1, 1], -14.82441375, 1, 0.)\n",
            " ([0, 1, 1, 0, 1, 0, 1, 0, 0, 1], -14.80915236, 2, 0.)\n",
            " ([1, 0, 0, 1, 0, 1, 0, 0, 1, 1], -14.80881208, 1, 0.)\n",
            " ([0, 1, 1, 1, 0, 0, 0, 1, 1, 1], -14.78039919, 1, 0.)\n",
            " ([1, 1, 1, 0, 0, 0, 0, 1, 0, 1], -14.77895234, 2, 0.)\n",
            " ([1, 0, 1, 1, 0, 0, 1, 0, 1, 0], -14.7666217 , 1, 0.)\n",
            " ([1, 0, 0, 1, 1, 1, 0, 0, 1, 1], -14.76577773, 2, 0.)\n",
            " ([0, 1, 1, 0, 0, 0, 1, 1, 0, 0], -14.76577773, 1, 0.)\n",
            " ([1, 1, 0, 0, 0, 0, 0, 1, 1, 1], -14.76174579, 1, 0.)\n",
            " ([0, 1, 0, 1, 1, 0, 0, 0, 0, 1], -14.75585013, 2, 0.)\n",
            " ([1, 0, 1, 0, 0, 1, 1, 0, 1, 1], -14.7554625 , 1, 0.)\n",
            " ([1, 0, 0, 1, 1, 0, 1, 0, 0, 1], -14.71852726, 1, 0.)\n",
            " ([0, 0, 1, 1, 0, 1, 1, 0, 0, 0], -14.71367774, 1, 0.)\n",
            " ([0, 1, 1, 1, 1, 1, 0, 0, 0, 1], -14.70678119, 1, 0.)\n",
            " ([1, 1, 0, 1, 1, 0, 0, 0, 0, 0], -14.69789204, 1, 0.)\n",
            " ([0, 1, 1, 1, 0, 0, 1, 0, 1, 0], -14.68786246, 1, 0.)\n",
            " ([0, 1, 1, 0, 0, 1, 1, 1, 1, 0], -14.67534215, 1, 0.)\n",
            " ([1, 0, 1, 0, 0, 1, 0, 0, 1, 1], -14.63273353, 1, 0.)\n",
            " ([1, 0, 0, 1, 0, 0, 0, 0, 0, 1], -14.6192459 , 1, 0.)\n",
            " ([0, 1, 0, 0, 1, 1, 1, 1, 0, 1], -14.61863491, 1, 0.)\n",
            " ([0, 0, 1, 0, 1, 1, 1, 1, 0, 1], -14.43118776, 1, 0.)\n",
            " ([0, 1, 1, 1, 0, 0, 1, 0, 0, 1], -14.37086393, 1, 0.)\n",
            " ([0, 1, 1, 1, 1, 0, 1, 1, 0, 0], -14.29366549, 1, 0.)\n",
            " ([0, 1, 0, 1, 1, 0, 1, 1, 1, 0], -14.26259234, 1, 0.)]\n"
          ]
        }
      ]
    },
    {
      "cell_type": "markdown",
      "metadata": {
        "id": "j-nG_poleIKR"
      },
      "source": [
        "Trên đây ta đã thu được kết quả tổng hợp. Hãy tìm ra kết quả tốt nhất cho bài toán bằng lệnh sau:"
      ]
    },
    {
      "cell_type": "code",
      "metadata": {
        "id": "ExDMgxAQy-yZ"
      },
      "source": [
        "x = sampleset.record[0][0]"
      ],
      "execution_count": 17,
      "outputs": []
    },
    {
      "cell_type": "code",
      "source": [
        "print(x)"
      ],
      "metadata": {
        "colab": {
          "base_uri": "https://localhost:8080/"
        },
        "id": "ZqUiliShVPqC",
        "outputId": "221755f8-1142-4879-acbb-d0275782a6aa"
      },
      "execution_count": 18,
      "outputs": [
        {
          "output_type": "stream",
          "name": "stdout",
          "text": [
            "[1 0 0 0 0 1 1 0 0 1]\n"
          ]
        }
      ]
    },
    {
      "cell_type": "markdown",
      "metadata": {
        "id": "PZnR0skCeUx4"
      },
      "source": [
        "Kết quả trên có chứa kết quả cho các biến số $x_i$, được nằm ở cột thứ x trong ma trận kết quả trên.\n",
        "Tiếp theo hãy tính chi tiết các hàm số $W_A$ và $W_B$ như sau:\n"
      ]
    },
    {
      "cell_type": "code",
      "metadata": {
        "colab": {
          "base_uri": "https://localhost:8080/"
        },
        "id": "EER-2s6VeTER",
        "outputId": "c40fa81c-b744-4452-dd34-3187fcb9b402"
      },
      "source": [
        "print(np.dot(w,x))"
      ],
      "execution_count": 19,
      "outputs": [
        {
          "output_type": "stream",
          "name": "stdout",
          "text": [
            "1.9304740899590156\n"
          ]
        }
      ]
    },
    {
      "cell_type": "code",
      "metadata": {
        "colab": {
          "base_uri": "https://localhost:8080/"
        },
        "id": "FEZeQCcOeg-L",
        "outputId": "b94d9f08-0f12-4763-b166-1381d1e0b365"
      },
      "source": [
        "print(W-np.dot(w,x))"
      ],
      "execution_count": 20,
      "outputs": [
        {
          "output_type": "stream",
          "name": "stdout",
          "text": [
            "1.940974120807606\n"
          ]
        }
      ]
    },
    {
      "cell_type": "markdown",
      "metadata": {
        "id": "Kpb5K9YLg4_9"
      },
      "source": [
        "Có thể thấy kết quả khá là đúng!"
      ]
    },
    {
      "cell_type": "markdown",
      "metadata": {
        "id": "tK2pSw4KhFeg"
      },
      "source": [
        "### **Hãy cùng trải nghiệm với các công cụ Solver khác nhé**"
      ]
    },
    {
      "cell_type": "markdown",
      "metadata": {
        "id": "mRWMJ28qjUk7"
      },
      "source": [
        "Cách sử dụng một số Solver dạng Hibrid như sau:"
      ]
    },
    {
      "cell_type": "code",
      "metadata": {
        "id": "2SODQpKdj-1a"
      },
      "source": [
        "from dwave.system import LeapHybridSampler\n",
        "sampler = LeapHybridSampler(solver='hybrid_binary_quadratic_model_version2', token=token, endpoint=endpoint)"
      ],
      "execution_count": 21,
      "outputs": []
    },
    {
      "cell_type": "markdown",
      "metadata": {
        "id": "MaUJ6H0HkEfF"
      },
      "source": [
        "Chỉ cần chọn tên của solver='hybrid_binary_quadratic_model_version2' thì sẽ có thể sử dụng được."
      ]
    },
    {
      "cell_type": "code",
      "metadata": {
        "id": "bkd5hXLPky55"
      },
      "source": [
        "sampleset = sampler.sample_qubo(Q)"
      ],
      "execution_count": 22,
      "outputs": []
    },
    {
      "cell_type": "markdown",
      "metadata": {
        "id": "WvevSC0BkC9-"
      },
      "source": [
        "Lưu ý rằng các Solver dạng Hibrid sẽ không có thông số số lần đo kết quả num_reads.\n",
        "Solver dạng Hibrid có quy mô lớn hơn với **tổng số lượng biến số tối đa là 1 triệu biến số**, do đó cần phải xem quy mô kích thước bài toán và kích thước các ma trận QUBO để sử dụng cho phù hợp.\n"
      ]
    },
    {
      "cell_type": "code",
      "metadata": {
        "colab": {
          "base_uri": "https://localhost:8080/"
        },
        "id": "em70zZwplHqS",
        "outputId": "45ebf7ef-08c9-48fe-8c2c-0d61748372cc"
      },
      "source": [
        "print(sampleset.record)"
      ],
      "execution_count": 23,
      "outputs": [
        {
          "output_type": "stream",
          "name": "stdout",
          "text": [
            "[([0, 1, 0, 1, 0, 1, 0, 0, 1, 0], -14.98805618, 1)]\n"
          ]
        }
      ]
    },
    {
      "cell_type": "markdown",
      "metadata": {
        "id": "45jyT_Vh6nZB"
      },
      "source": [
        "### **Phương pháp cài đặt ma trận QUBO**"
      ]
    },
    {
      "cell_type": "markdown",
      "metadata": {
        "id": "Z1C_kBE96saW"
      },
      "source": [
        "Để có thể gửi các thông tin về bài toán thông qua ma trận QUBO đến nhiều các solver khác nhau trong thời gian ngắn, người ta hay gửi dưới dạng từ điển đã được hỗ trợ trong các thư viện numpy của python như sau:"
      ]
    },
    {
      "cell_type": "code",
      "metadata": {
        "id": "w6DAxcPm7FCn"
      },
      "source": [
        "Qdict = {}\n",
        "for i in range(N):\n",
        "  for j in range(N):\n",
        "    if Q[i][j] != 0.0:\n",
        "      Qdict[(i,j)] = Q[i][j]"
      ],
      "execution_count": 24,
      "outputs": []
    },
    {
      "cell_type": "markdown",
      "metadata": {
        "id": "Uiv3XbN77RnA"
      },
      "source": [
        "Hãy thử in thư viện ra xem như thế nào:"
      ]
    },
    {
      "cell_type": "code",
      "metadata": {
        "colab": {
          "base_uri": "https://localhost:8080/"
        },
        "id": "tKL6Jbtg7m_a",
        "outputId": "0bdfbc29-9176-463b-eb6b-afd601fab038"
      },
      "source": [
        "print(Qdict)"
      ],
      "execution_count": 25,
      "outputs": [
        {
          "output_type": "stream",
          "name": "stdout",
          "text": [
            "{(0, 0): -9.430522403827801, (0, 1): 2.4092451808602426, (0, 2): 0.3591171325308862, (0, 3): 1.9027448330875043, (0, 4): 0.07280075937797133, (0, 5): 1.1735603753434356, (0, 6): 1.6328011096308002, (0, 7): 0.7463047146979627, (0, 8): 0.3870349696541574, (0, 9): 0.7469133286448413, (1, 0): 2.4092451808602426, (1, 1): -9.789113756049527, (1, 2): 0.3774579976001351, (1, 3): 1.9999220019931596, (1, 4): 0.07651884683116571, (1, 5): 1.2334965648064653, (1, 6): 1.71619168647576, (1, 7): 0.7844200615664177, (1, 8): 0.40680165721228234, (1, 9): 0.7850597587038984, (2, 0): 0.3591171325308862, (2, 1): 0.3774579976001351, (2, 2): -1.7803400517775056, (2, 3): 0.2981042611797487, (2, 4): 0.011405741963035329, (2, 5): 0.18386246151246002, (2, 6): 0.25581200378305213, (2, 7): 0.11692404137500445, (2, 8): 0.060637018518274986, (2, 9): 0.11701939331490883, (3, 0): 1.9027448330875043, (3, 1): 1.9999220019931596, (3, 2): 0.2981042611797487, (3, 3): -8.151576670309911, (3, 4): 0.0604321393266535, (3, 5): 0.9741761585587814, (3, 6): 1.3553933364571533, (3, 7): 0.6195098908873834, (3, 8): 0.32127894558067616, (3, 9): 0.6200151032388501, (4, 0): 0.07280075937797133, (4, 1): 0.07651884683116571, (4, 2): 0.011405741963035329, (4, 3): 0.0604321393266535, (4, 4): -0.3700067369550112, (4, 5): 0.03727287173651873, (4, 6): 0.05185858998750207, (4, 7): 0.02370301561958915, (4, 8): 0.012292426605870335, (4, 9): 0.023722345506705034, (5, 0): 1.1735603753434356, (5, 1): 1.2334965648064653, (5, 2): 0.18386246151246002, (5, 3): 0.9741761585587814, (5, 4): 0.03727287173651873, (5, 5): -5.400998237950788, (5, 6): 0.8359691142030802, (5, 7): 0.38209656252175644, (5, 8): 0.19815596574438948, (5, 9): 0.382408163523901, (6, 0): 1.6328011096308002, (6, 1): 1.71619168647576, (6, 2): 0.25581200378305213, (6, 3): 1.3553933364571533, (6, 4): 0.05185858998750207, (6, 5): 0.8359691142030802, (6, 6): -7.187397447467033, (6, 7): 0.5316195948496141, (6, 8): 0.27569887970417983, (6, 9): 0.5320531323758916, (7, 0): 0.7463047146979627, (7, 1): 0.7844200615664177, (7, 2): 0.11692404137500445, (7, 3): 0.6195098908873834, (7, 4): 0.02370301561958915, (7, 5): 0.38209656252175644, (7, 6): 0.5316195948496141, (7, 7): -3.573777247788634, (7, 8): 0.12601373954645345, (7, 9): 0.2431856267244522, (8, 0): 0.3870349696541574, (8, 1): 0.40680165721228234, (8, 2): 0.060637018518274986, (8, 3): 0.32127894558067616, (8, 4): 0.012292426605870335, (8, 5): 0.19815596574438948, (8, 6): 0.27569887970417983, (8, 7): 0.12601373954645345, (8, 8): -1.9140301067313656, (8, 9): 0.12611650416508155, (9, 0): 0.7469133286448413, (9, 1): 0.7850597587038984, (9, 2): 0.11701939331490883, (9, 3): 0.6200151032388501, (9, 4): 0.023722345506705034, (9, 5): 0.382408163523901, (9, 6): 0.5320531323758916, (9, 7): 0.2431856267244522, (9, 8): 0.12611650416508155, (9, 9): -3.57649335619853}\n"
          ]
        }
      ]
    },
    {
      "cell_type": "markdown",
      "metadata": {
        "id": "U-5Lhef57D8S"
      },
      "source": [
        "Có thể thấy là thư viện sẽ có cách lưu trữ thông tin là thành phần nào tại vị trí nào có giá trị ra sao là cách viết của thư viện."
      ]
    },
    {
      "cell_type": "markdown",
      "metadata": {
        "id": "z4LcRgYE4J_b"
      },
      "source": [
        "### **Hướng dẫn cách sử dụng của các Simulator:**"
      ]
    },
    {
      "cell_type": "markdown",
      "metadata": {
        "id": "u-5Dp62i5YN_"
      },
      "source": [
        "Đầu tiên hãy cài đặt OpenJij:"
      ]
    },
    {
      "cell_type": "code",
      "metadata": {
        "colab": {
          "base_uri": "https://localhost:8080/"
        },
        "id": "GiWddXap5fIL",
        "outputId": "828ef9f9-1489-4b21-b492-055d773e981a"
      },
      "source": [
        "pip install openjij"
      ],
      "execution_count": 26,
      "outputs": [
        {
          "output_type": "stream",
          "name": "stdout",
          "text": [
            "Collecting openjij\n",
            "  Downloading openjij-0.9.2-cp310-cp310-manylinux_2_28_x86_64.whl (11.8 MB)\n",
            "\u001b[2K     \u001b[90m━━━━━━━━━━━━━━━━━━━━━━━━━━━━━━━━━━━━━━━━\u001b[0m \u001b[32m11.8/11.8 MB\u001b[0m \u001b[31m12.0 MB/s\u001b[0m eta \u001b[36m0:00:00\u001b[0m\n",
            "\u001b[?25hRequirement already satisfied: numpy<1.27.0,>=1.17.3 in /usr/local/lib/python3.10/dist-packages (from openjij) (1.25.2)\n",
            "Requirement already satisfied: dimod<0.13.0 in /usr/local/lib/python3.10/dist-packages (from openjij) (0.12.14)\n",
            "Requirement already satisfied: scipy<1.12.0,>=1.7.3 in /usr/local/lib/python3.10/dist-packages (from openjij) (1.11.4)\n",
            "Requirement already satisfied: requests<2.32.0,>=2.28.0 in /usr/local/lib/python3.10/dist-packages (from openjij) (2.31.0)\n",
            "\u001b[33mWARNING: Retrying (Retry(total=4, connect=None, read=None, redirect=None, status=None)) after connection broken by 'ProtocolError('Connection aborted.', RemoteDisconnected('Remote end closed connection without response'))': /simple/jij-cimod/\u001b[0m\u001b[33m\n",
            "\u001b[0mCollecting jij-cimod<1.7.0,>=1.6.0 (from openjij)\n",
            "  Downloading jij_cimod-1.6.2-cp310-cp310-manylinux_2_28_x86_64.whl (11.6 MB)\n",
            "\u001b[2K     \u001b[90m━━━━━━━━━━━━━━━━━━━━━━━━━━━━━━━━━━━━━━━━\u001b[0m \u001b[32m11.6/11.6 MB\u001b[0m \u001b[31m32.3 MB/s\u001b[0m eta \u001b[36m0:00:00\u001b[0m\n",
            "\u001b[?25hRequirement already satisfied: typing-extensions>=4.2.0 in /usr/local/lib/python3.10/dist-packages (from openjij) (4.10.0)\n",
            "Requirement already satisfied: charset-normalizer<4,>=2 in /usr/local/lib/python3.10/dist-packages (from requests<2.32.0,>=2.28.0->openjij) (3.3.2)\n",
            "Requirement already satisfied: idna<4,>=2.5 in /usr/local/lib/python3.10/dist-packages (from requests<2.32.0,>=2.28.0->openjij) (3.6)\n",
            "Requirement already satisfied: urllib3<3,>=1.21.1 in /usr/local/lib/python3.10/dist-packages (from requests<2.32.0,>=2.28.0->openjij) (2.0.7)\n",
            "Requirement already satisfied: certifi>=2017.4.17 in /usr/local/lib/python3.10/dist-packages (from requests<2.32.0,>=2.28.0->openjij) (2024.2.2)\n",
            "Installing collected packages: jij-cimod, openjij\n",
            "Successfully installed jij-cimod-1.6.2 openjij-0.9.2\n"
          ]
        }
      ]
    },
    {
      "cell_type": "markdown",
      "metadata": {
        "id": "3xLQbXWn5bp3"
      },
      "source": [
        "Tiếp theo dùng import SQASampler để gọi và sử dụng sampler."
      ]
    },
    {
      "cell_type": "code",
      "metadata": {
        "id": "iOnD6obYfGnp"
      },
      "source": [
        "from openjij import SQASampler\n",
        "sampler = SQASampler()"
      ],
      "execution_count": 27,
      "outputs": []
    },
    {
      "cell_type": "markdown",
      "metadata": {
        "id": "2_l066yk8AcA"
      },
      "source": [
        "SQA là một dạng solver được thiết kế trong thư viện của Openjij, được mô phỏng theo công nghệ Annealing theo phương pháp Monte Carlo lượng tử. Hãy xem kết quả ra sao."
      ]
    },
    {
      "cell_type": "code",
      "metadata": {
        "id": "fR5-8aee5vDn"
      },
      "source": [
        "sampleset = sampler.sample_qubo(Qdict, num_reads=10)"
      ],
      "execution_count": 28,
      "outputs": []
    },
    {
      "cell_type": "code",
      "metadata": {
        "colab": {
          "base_uri": "https://localhost:8080/"
        },
        "id": "iJeu9wTa6g0K",
        "outputId": "b527e403-2c91-4053-bba5-07c90dce3917"
      },
      "source": [
        "print(sampleset.record)"
      ],
      "execution_count": 29,
      "outputs": [
        {
          "output_type": "stream",
          "name": "stdout",
          "text": [
            "[([1, 1, 0, 0, 0, 0, 0, 1, 0, 0], -14.91347349, 1)\n",
            " ([0, 1, 0, 1, 0, 1, 0, 1, 0, 0], -14.92822343, 1)\n",
            " ([1, 0, 1, 0, 0, 1, 0, 1, 1, 1], -14.97746141, 1)\n",
            " ([1, 1, 1, 0, 1, 0, 1, 0, 0, 0], -14.6309623 , 1)\n",
            " ([1, 0, 1, 0, 1, 1, 1, 0, 1, 0], -14.98673614, 1)\n",
            " ([1, 0, 0, 1, 0, 0, 0, 1, 1, 1], -14.96816447, 1)\n",
            " ([1, 0, 0, 1, 1, 0, 1, 0, 0, 0], -14.98744172, 1)\n",
            " ([1, 1, 1, 0, 0, 0, 0, 0, 0, 1], -14.98684398, 1)\n",
            " ([0, 1, 0, 1, 1, 1, 0, 0, 0, 0], -14.94805823, 1)\n",
            " ([0, 1, 0, 1, 0, 0, 0, 1, 1, 0], -14.91260519, 1)]\n"
          ]
        }
      ]
    },
    {
      "cell_type": "markdown",
      "source": [
        "Hãy sử dụng thử Simulator của D-wave:"
      ],
      "metadata": {
        "id": "WOSsMj7zKmyP"
      }
    },
    {
      "cell_type": "code",
      "source": [
        "pip install dimod dwave-neal"
      ],
      "metadata": {
        "colab": {
          "base_uri": "https://localhost:8080/"
        },
        "id": "irq1PVrq6uhn",
        "outputId": "3a4b5b74-cd17-41e6-9c9e-90df0b84f3c1"
      },
      "execution_count": 30,
      "outputs": [
        {
          "output_type": "stream",
          "name": "stdout",
          "text": [
            "Requirement already satisfied: dimod in /usr/local/lib/python3.10/dist-packages (0.12.14)\n",
            "Requirement already satisfied: dwave-neal in /usr/local/lib/python3.10/dist-packages (0.6.0)\n",
            "Requirement already satisfied: numpy<2.0.0,>=1.17.3 in /usr/local/lib/python3.10/dist-packages (from dimod) (1.25.2)\n",
            "Requirement already satisfied: dwave-samplers<2.0.0,>=1.0.0 in /usr/local/lib/python3.10/dist-packages (from dwave-neal) (1.2.0)\n",
            "Requirement already satisfied: networkx>=2.4.0 in /usr/local/lib/python3.10/dist-packages (from dwave-samplers<2.0.0,>=1.0.0->dwave-neal) (3.2.1)\n"
          ]
        }
      ]
    },
    {
      "cell_type": "code",
      "source": [
        "from dimod import BinaryQuadraticModel as BQM"
      ],
      "metadata": {
        "id": "yRM4AhQQ6x9u"
      },
      "execution_count": 31,
      "outputs": []
    },
    {
      "cell_type": "code",
      "source": [
        "Q = np.array([\n",
        "     [ 1,  2, -1,  0],\n",
        "     [ 0, -1, -2, -1],\n",
        "     [ 0,  0, -2,  2],\n",
        "     [ 0,  0,  0,  0]\n",
        "  ])"
      ],
      "metadata": {
        "id": "o7wuvrn_64Ui"
      },
      "execution_count": 32,
      "outputs": []
    },
    {
      "cell_type": "code",
      "source": [
        "bqm = BQM.from_qubo(Q)"
      ],
      "metadata": {
        "id": "_Ky9JH5f69Eg"
      },
      "execution_count": 33,
      "outputs": []
    },
    {
      "cell_type": "code",
      "source": [
        "bqm"
      ],
      "metadata": {
        "colab": {
          "base_uri": "https://localhost:8080/"
        },
        "id": "tpCS00l76_-Y",
        "outputId": "ef83c523-a40e-4dbf-a40f-e7ca698ea794"
      },
      "execution_count": 34,
      "outputs": [
        {
          "output_type": "execute_result",
          "data": {
            "text/plain": [
              "BinaryQuadraticModel({0: 1.0, 1: -1.0, 2: -2.0, 3: 0.0}, {(1, 0): 2.0, (2, 0): -1.0, (2, 1): -2.0, (3, 1): -1.0, (3, 2): 2.0}, 0.0, 'BINARY')"
            ]
          },
          "metadata": {},
          "execution_count": 34
        }
      ]
    },
    {
      "cell_type": "code",
      "source": [
        "from neal import SimulatedAnnealingSampler"
      ],
      "metadata": {
        "id": "z_eec50d7Ev2"
      },
      "execution_count": 35,
      "outputs": []
    },
    {
      "cell_type": "code",
      "source": [
        "sa_sampler = SimulatedAnnealingSampler()"
      ],
      "metadata": {
        "id": "-XrOaSfw7I3o"
      },
      "execution_count": 36,
      "outputs": []
    },
    {
      "cell_type": "code",
      "source": [
        "res = sa_sampler.sample(bqm)"
      ],
      "metadata": {
        "id": "w0Z-3Nhj7KZY"
      },
      "execution_count": 37,
      "outputs": []
    },
    {
      "cell_type": "code",
      "source": [
        "res"
      ],
      "metadata": {
        "id": "0X_8pfHC7L7w",
        "outputId": "4073ac5a-daa9-4416-edc7-1691091f0217",
        "colab": {
          "base_uri": "https://localhost:8080/"
        }
      },
      "execution_count": 38,
      "outputs": [
        {
          "output_type": "execute_result",
          "data": {
            "text/plain": [
              "SampleSet(rec.array([([0, 1, 1, 0], -5., 1)],\n",
              "          dtype=[('sample', 'i1', (4,)), ('energy', '<f8'), ('num_occurrences', '<i8')]), Variables([0, 1, 2, 3]), {'beta_range': [0.13862943611198905, 11.982929094215963], 'beta_schedule_type': 'geometric', 'timing': {'preprocessing_ns': 11076856, 'sampling_ns': 368094, 'postprocessing_ns': 349005}}, 'BINARY')"
            ]
          },
          "metadata": {},
          "execution_count": 38
        }
      ]
    },
    {
      "cell_type": "markdown",
      "metadata": {
        "id": "B40tNNEt9KHW"
      },
      "source": [
        "Hãy chú ý là Openjij hay các simulator đều sử dụng QUBO dưới dạng tử điển. Trên đây là bài học trải nghiệm lập trình với Máy tính lượng tử loại Annealing, hi vọng bạn đã có trải nghiệm mới về các sản phẩm trên."
      ]
    }
  ]
}