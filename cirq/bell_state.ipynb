{
 "cells": [
  {
   "cell_type": "code",
   "execution_count": 10,
   "id": "05138c1a-e7b5-4c8a-a5af-63b3f03c37a7",
   "metadata": {},
   "outputs": [],
   "source": [
    "# Import the Cirq library\n",
    "import cirq"
   ]
  },
  {
   "cell_type": "code",
   "execution_count": 11,
   "id": "8f754d5e-0fde-4ddf-a254-421fad8a97e3",
   "metadata": {},
   "outputs": [],
   "source": [
    "# Get qubits and circuit\n",
    "qreg = [cirq.LineQubit(x) for x in range(2)]\n",
    "circ = cirq.Circuit()"
   ]
  },
  {
   "cell_type": "code",
   "execution_count": 12,
   "id": "df282c3b-d0bf-4f5d-9a9d-b6c9d98d796f",
   "metadata": {},
   "outputs": [],
   "source": [
    "# Add the Bell state preparation circuit\n",
    "circ.append([cirq.H(qreg[0]),cirq.CNOT(qreg[0],qreg[1])])"
   ]
  },
  {
   "cell_type": "code",
   "execution_count": 13,
   "id": "4c0495c0-214a-4489-996d-a7b9004ce272",
   "metadata": {},
   "outputs": [
    {
     "name": "stdout",
     "output_type": "stream",
     "text": [
      "Circuit\n",
      "0: ───H───@───\n",
      "          │\n",
      "1: ───────X───\n"
     ]
    }
   ],
   "source": [
    "# Display the circuit\n",
    "print(\"Circuit\")\n",
    "print(circ)"
   ]
  },
  {
   "cell_type": "code",
   "execution_count": 14,
   "id": "536d5ffb-8c99-4d65-a2ee-8726ad4c2f57",
   "metadata": {},
   "outputs": [
    {
     "name": "stdout",
     "output_type": "stream",
     "text": [
      "Circuit\n",
      "0: ───H───@───M('z')───\n",
      "          │   │\n",
      "1: ───────X───M────────\n"
     ]
    }
   ],
   "source": [
    "# Add measurements\n",
    "circ.append(cirq.measure(*qreg, key=\"z\"))\n",
    "print(\"Circuit\")\n",
    "print(circ)"
   ]
  },
  {
   "cell_type": "code",
   "execution_count": 15,
   "id": "cc19da26-df7b-4be7-a2e9-2e1f2a04ab3a",
   "metadata": {},
   "outputs": [],
   "source": [
    "# Simulate the circuit\n",
    "sim = cirq.Simulator()\n",
    "res = sim.run(circ, repetitions=1000)"
   ]
  },
  {
   "cell_type": "code",
   "execution_count": 16,
   "id": "2261e9f8-edf4-4898-ac5c-c69d05098a3d",
   "metadata": {},
   "outputs": [
    {
     "name": "stdout",
     "output_type": "stream",
     "text": [
      "\n",
      "Measurements:\n",
      "Counter({0: 511, 3: 489})\n"
     ]
    }
   ],
   "source": [
    "# Display the results\n",
    "print(\"\\nMeasurements:\")\n",
    "print(res.histogram(key=\"z\"))"
   ]
  },
  {
   "cell_type": "code",
   "execution_count": 8,
   "id": "fa14aa60-191f-47ca-9853-46bbcc9a9caf",
   "metadata": {},
   "outputs": [
    {
     "data": {
      "text/latex": [
       "\\begin{equation}\n",
       "\\begin{pmatrix}\n",
       "1 & 0 & 0 & 0 \\\\\n",
       "0 & 1 & 0 & 0 \\\\\n",
       "0 & 0 & 0 & 1 \\\\\n",
       "0 & 0 & 1 & 0 \n",
       "\\end{pmatrix}\n",
       "\\frac{\\sqrt{2}}{2}\n",
       "\\begin{pmatrix}\n",
       "1 & 0 & 1 & 0 \\\\\n",
       "0 & 1 & 0 & 1 \\\\\n",
       "1 & 0 & -1 & 0 \\\\\n",
       "0 & 1 & 0 & -1 \n",
       "\\end{pmatrix}\n",
       "\\begin{pmatrix}\n",
       "1 \\\\\n",
       "0 \\\\\n",
       "0 \\\\\n",
       "0 \n",
       "\\end{pmatrix}\n",
       "=\n",
       "\\begin{pmatrix}\n",
       "\\frac{\\sqrt{2}}{2} \\\\\n",
       "0 \\\\\n",
       "\\frac{\\sqrt{2}}{2} \\\\\n",
       "0 \n",
       "\\end{pmatrix}\n",
       "\\end{equation}\n"
      ],
      "text/plain": [
       "<IPython.core.display.Latex object>"
      ]
     },
     "metadata": {},
     "output_type": "display_data"
    }
   ],
   "source": [
    "%%latex\n",
    "\\begin{equation}\n",
    "\\begin{pmatrix}\n",
    "1 & 0 & 0 & 0 \\\\\n",
    "0 & 1 & 0 & 0 \\\\\n",
    "0 & 0 & 0 & 1 \\\\\n",
    "0 & 0 & 1 & 0 \n",
    "\\end{pmatrix}\n",
    "\\frac{\\sqrt{2}}{2}\n",
    "\\begin{pmatrix}\n",
    "1 & 0 & 1 & 0 \\\\\n",
    "0 & 1 & 0 & 1 \\\\\n",
    "1 & 0 & -1 & 0 \\\\\n",
    "0 & 1 & 0 & -1 \n",
    "\\end{pmatrix}\n",
    "\\begin{pmatrix}\n",
    "1 \\\\\n",
    "0 \\\\\n",
    "0 \\\\\n",
    "0 \n",
    "\\end{pmatrix}\n",
    "=\n",
    "\\begin{pmatrix}\n",
    "\\frac{\\sqrt{2}}{2} \\\\\n",
    "0 \\\\\n",
    "\\frac{\\sqrt{2}}{2} \\\\\n",
    "0 \n",
    "\\end{pmatrix}\n",
    "\\end{equation}"
   ]
  },
  {
   "cell_type": "code",
   "execution_count": null,
   "id": "fb380baf-af81-4101-a6e2-4e8ec8d5e35d",
   "metadata": {},
   "outputs": [],
   "source": []
  },
  {
   "cell_type": "code",
   "execution_count": null,
   "id": "07823a22-c083-49ec-a40b-2f69d3329add",
   "metadata": {},
   "outputs": [],
   "source": []
  }
 ],
 "metadata": {
  "kernelspec": {
   "display_name": "Python 3 (ipykernel)",
   "language": "python",
   "name": "python3"
  },
  "language_info": {
   "codemirror_mode": {
    "name": "ipython",
    "version": 3
   },
   "file_extension": ".py",
   "mimetype": "text/x-python",
   "name": "python",
   "nbconvert_exporter": "python",
   "pygments_lexer": "ipython3",
   "version": "3.9.23"
  }
 },
 "nbformat": 4,
 "nbformat_minor": 5
}
