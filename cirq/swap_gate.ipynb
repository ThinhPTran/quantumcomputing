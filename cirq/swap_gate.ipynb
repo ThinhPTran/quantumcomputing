{
 "cells": [
  {
   "cell_type": "code",
   "execution_count": 56,
   "id": "4f5dcf7f-47c6-4f50-a5f6-97afd1f389ca",
   "metadata": {},
   "outputs": [],
   "source": [
    "# Import the Cirq library\n",
    "import cirq"
   ]
  },
  {
   "cell_type": "code",
   "execution_count": 57,
   "id": "5083d99c-da4a-4de0-b387-c04015f28a97",
   "metadata": {},
   "outputs": [],
   "source": [
    "# Get qubits and circuit\n",
    "qreg = [cirq.LineQubit(x) for x in range(2)]\n",
    "circ = cirq.Circuit()"
   ]
  },
  {
   "cell_type": "code",
   "execution_count": 58,
   "id": "37b9e600-6da2-4e66-b78f-4b17ab173d90",
   "metadata": {},
   "outputs": [
    {
     "name": "stdout",
     "output_type": "stream",
     "text": [
      "Circuit\n",
      "\n"
     ]
    }
   ],
   "source": [
    "# Display the circuit\n",
    "print(\"Circuit\")\n",
    "print(circ)"
   ]
  },
  {
   "cell_type": "code",
   "execution_count": 59,
   "id": "0e96907a-21be-4e4f-84e0-c4534976adf5",
   "metadata": {},
   "outputs": [],
   "source": [
    "# Add the Bell state preparation circuit\n",
    "circ.append([cirq.X(qreg[1]),cirq.CNOT(qreg[0],qreg[1])])"
   ]
  },
  {
   "cell_type": "code",
   "execution_count": 60,
   "id": "3c629f98-0f33-410f-bcc7-0f7b3aeac62e",
   "metadata": {},
   "outputs": [
    {
     "name": "stdout",
     "output_type": "stream",
     "text": [
      "Circuit\n",
      "0: ───────@───\n",
      "          │\n",
      "1: ───X───X───\n"
     ]
    }
   ],
   "source": [
    "# Display the circuit\n",
    "print(\"Circuit\")\n",
    "print(circ)"
   ]
  },
  {
   "cell_type": "code",
   "execution_count": 61,
   "id": "66aa968b-186f-4bf5-af75-0def72781e6a",
   "metadata": {},
   "outputs": [],
   "source": [
    "circ.append([cirq.CNOT(qreg[1],qreg[0])])"
   ]
  },
  {
   "cell_type": "code",
   "execution_count": 62,
   "id": "f0a34008-a827-42bb-a36c-704565b5bcd9",
   "metadata": {},
   "outputs": [
    {
     "name": "stdout",
     "output_type": "stream",
     "text": [
      "Circuit\n",
      "0: ───────@───X───\n",
      "          │   │\n",
      "1: ───X───X───@───\n"
     ]
    }
   ],
   "source": [
    "# Display the circuit\n",
    "print(\"Circuit\")\n",
    "print(circ)"
   ]
  },
  {
   "cell_type": "code",
   "execution_count": 63,
   "id": "e4cf3ffd-32c1-4857-a660-636e9519cc4d",
   "metadata": {},
   "outputs": [
    {
     "name": "stdout",
     "output_type": "stream",
     "text": [
      "Circuit\n",
      "0: ───────@───X───@───\n",
      "          │   │   │\n",
      "1: ───X───X───@───X───\n"
     ]
    }
   ],
   "source": [
    "circ.append([cirq.CNOT(qreg[0],qreg[1])])\n",
    "print(\"Circuit\")\n",
    "print(circ)"
   ]
  },
  {
   "cell_type": "code",
   "execution_count": 64,
   "id": "5e3ce8df-105a-4165-b634-658a2f6012b0",
   "metadata": {},
   "outputs": [
    {
     "name": "stdout",
     "output_type": "stream",
     "text": [
      "Circuit\n",
      "0: ───────@───X───@───M('z')───\n",
      "          │   │   │   │\n",
      "1: ───X───X───@───X───M────────\n"
     ]
    }
   ],
   "source": [
    "# Add measurements\n",
    "circ.append(cirq.measure(*qreg, key=\"z\"))\n",
    "print(\"Circuit\")\n",
    "print(circ)"
   ]
  },
  {
   "cell_type": "code",
   "execution_count": 65,
   "id": "9bd153c3-4764-4d29-96c5-0db9200eec6a",
   "metadata": {},
   "outputs": [],
   "source": [
    "# Simulate the circuit\n",
    "sim = cirq.Simulator()\n",
    "res = sim.run(circ, repetitions=1000)"
   ]
  },
  {
   "cell_type": "code",
   "execution_count": 66,
   "id": "d1b141cd-bfe4-46f2-92a7-f1b5aaa5a9d9",
   "metadata": {},
   "outputs": [
    {
     "name": "stdout",
     "output_type": "stream",
     "text": [
      "\n",
      "Measurements:\n",
      "Counter({2: 1000})\n"
     ]
    }
   ],
   "source": [
    "# Display the results\n",
    "print(\"\\nMeasurements:\")\n",
    "print(res.histogram(key=\"z\"))"
   ]
  },
  {
   "cell_type": "code",
   "execution_count": null,
   "id": "415a692b-7a53-4374-8c52-d845ad9ca7eb",
   "metadata": {},
   "outputs": [],
   "source": []
  }
 ],
 "metadata": {
  "kernelspec": {
   "display_name": "Python 3 (ipykernel)",
   "language": "python",
   "name": "python3"
  },
  "language_info": {
   "codemirror_mode": {
    "name": "ipython",
    "version": 3
   },
   "file_extension": ".py",
   "mimetype": "text/x-python",
   "name": "python",
   "nbconvert_exporter": "python",
   "pygments_lexer": "ipython3",
   "version": "3.12.2"
  }
 },
 "nbformat": 4,
 "nbformat_minor": 5
}
