{
 "cells": [
  {
   "cell_type": "code",
   "execution_count": 1,
   "id": "ad2c1db2-9ef6-4ad9-aef6-856d3b12ca7c",
   "metadata": {},
   "outputs": [],
   "source": [
    "# Import the Cirq package\n",
    "import cirq"
   ]
  },
  {
   "cell_type": "code",
   "execution_count": 2,
   "id": "a12b2c15-80de-4ae1-bb57-7c145e128681",
   "metadata": {},
   "outputs": [],
   "source": [
    "# Pick a qubit\n",
    "qubit = cirq.GridQubit(0,0)"
   ]
  },
  {
   "cell_type": "code",
   "execution_count": 5,
   "id": "81aac260-4cb2-4ea2-9e6f-b2b5b4328a17",
   "metadata": {},
   "outputs": [],
   "source": [
    "circuit = cirq.Circuit([\n",
    "    cirq.X(qubit), #NOT.\n",
    "    cirq.measure(qubit, key='m') # Measurement\n",
    "])"
   ]
  },
  {
   "cell_type": "code",
   "execution_count": 6,
   "id": "78dde047-debc-42b4-b866-87cc5ceb9266",
   "metadata": {},
   "outputs": [
    {
     "name": "stdout",
     "output_type": "stream",
     "text": [
      "Circuit:\n",
      "(0, 0): ───X───M('m')───\n"
     ]
    }
   ],
   "source": [
    "# Display the circuit\n",
    "print(\"Circuit:\")\n",
    "print(circuit)"
   ]
  },
  {
   "cell_type": "code",
   "execution_count": 7,
   "id": "f76c1572-ee65-41b9-b0df-6e00788f095f",
   "metadata": {},
   "outputs": [],
   "source": [
    "# Get a simulator to execute the circuit\n",
    "simulator = cirq.Simulator()"
   ]
  },
  {
   "cell_type": "code",
   "execution_count": 8,
   "id": "ef7d70df-23c6-41a7-8fb6-a8c1b0759256",
   "metadata": {},
   "outputs": [],
   "source": [
    "# Simulate the circuit serveral times\n",
    "result = simulator.run(circuit, repetitions=10)"
   ]
  },
  {
   "cell_type": "code",
   "execution_count": 9,
   "id": "176d1f47-65db-487c-b6ad-2be4cd2e2374",
   "metadata": {},
   "outputs": [
    {
     "name": "stdout",
     "output_type": "stream",
     "text": [
      "Result:\n",
      "m=1111111111\n"
     ]
    }
   ],
   "source": [
    "# Print the results\n",
    "print(\"Result:\")\n",
    "print(result)"
   ]
  },
  {
   "cell_type": "code",
   "execution_count": null,
   "id": "287168ad-d88f-4637-a259-70a9bb419d27",
   "metadata": {},
   "outputs": [],
   "source": []
  }
 ],
 "metadata": {
  "kernelspec": {
   "display_name": "Python 3 (ipykernel)",
   "language": "python",
   "name": "python3"
  },
  "language_info": {
   "codemirror_mode": {
    "name": "ipython",
    "version": 3
   },
   "file_extension": ".py",
   "mimetype": "text/x-python",
   "name": "python",
   "nbconvert_exporter": "python",
   "pygments_lexer": "ipython3",
   "version": "3.8.19"
  }
 },
 "nbformat": 4,
 "nbformat_minor": 5
}
